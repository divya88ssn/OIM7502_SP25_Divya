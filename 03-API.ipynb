{
 "cells": [
  {
   "cell_type": "markdown",
   "id": "f9bd1c7f",
   "metadata": {},
   "source": [
    "# APIs\n",
    "* Most interactions consist of getting or posting data\n",
    "* Almost every interaction involves dat aexchange via JSON\n",
    "* Both activities require connecting via an endpoint\n",
    "* Most APIs require some form of registration to expose API key(s)\n",
    "* Many platforms have written convenience libraries for Python\n",
    "    * [Facebook](https://pypi.org/project/python-facebook-api/)\n",
    "    * [Spotify](https://pypi.org/search/?q=spotify)\n",
    "    * [Yahoo Finance](https://pypi.org/project/yfinance/)"
   ]
  },
  {
   "cell_type": "code",
   "execution_count": null,
   "id": "b4a5db0f",
   "metadata": {},
   "outputs": [],
   "source": [
    "API Basics Recap\n",
    "GET requests: Retrieve data from a server or endpoint.\n",
    "POST requests: Send data to a server (often for updates, submissions).\n",
    "Data format: Most APIs return or accept JSON data.\n",
    "Endpoints: URLs that specify where to send requests.\n",
    "API keys: Many APIs require you to register and obtain a key for access.\n"
   ]
  },
  {
   "cell_type": "code",
   "execution_count": null,
   "id": "003d79ca",
   "metadata": {},
   "outputs": [],
   "source": []
  },
  {
   "cell_type": "code",
   "execution_count": null,
   "id": "d6816f69",
   "metadata": {},
   "outputs": [],
   "source": []
  },
  {
   "cell_type": "code",
   "execution_count": null,
   "id": "d736b4df",
   "metadata": {},
   "outputs": [],
   "source": []
  },
  {
   "cell_type": "code",
   "execution_count": null,
   "id": "13b8a3c2",
   "metadata": {},
   "outputs": [],
   "source": [
    "# display all posts\n"
   ]
  },
  {
   "cell_type": "code",
   "execution_count": null,
   "id": "72412fc3",
   "metadata": {},
   "outputs": [],
   "source": [
    "# how many posts are there?\n"
   ]
  },
  {
   "cell_type": "code",
   "execution_count": null,
   "id": "585849c6",
   "metadata": {},
   "outputs": [],
   "source": [
    "# what is the first title?\n"
   ]
  },
  {
   "cell_type": "code",
   "execution_count": null,
   "id": "422ca724",
   "metadata": {
    "scrolled": true
   },
   "outputs": [],
   "source": [
    "# print all post titles\n"
   ]
  },
  {
   "cell_type": "code",
   "execution_count": null,
   "id": "b6605887",
   "metadata": {},
   "outputs": [],
   "source": [
    "# write posts to a string\n"
   ]
  },
  {
   "cell_type": "code",
   "execution_count": null,
   "id": "bffaec26",
   "metadata": {},
   "outputs": [],
   "source": [
    "# write posts to a file\n"
   ]
  },
  {
   "cell_type": "markdown",
   "id": "067f873c",
   "metadata": {},
   "source": [
    "### Example of a convenience library\n",
    "* [yfinance](https://pypi.org/project/yfinance/)\n",
    "* data is downloaded into a pandas Series or DataFrame\n",
    "* This means pandas methods are exposed"
   ]
  },
  {
   "cell_type": "code",
   "execution_count": 1,
   "id": "10c4d57e",
   "metadata": {},
   "outputs": [],
   "source": [
    "# you likely need to install -- uncomment line below \n",
    "#!pip install yfinance"
   ]
  },
  {
   "cell_type": "code",
   "execution_count": 2,
   "id": "d9606c24",
   "metadata": {},
   "outputs": [],
   "source": [
    "import yfinance as yf\n",
    "import pandas as pd"
   ]
  },
  {
   "cell_type": "code",
   "execution_count": 3,
   "id": "2bbfc053",
   "metadata": {},
   "outputs": [
    {
     "name": "stdout",
     "output_type": "stream",
     "text": [
      "Historical Stock Data:\n",
      "                                 Open        High         Low       Close  \\\n",
      "Date                                                                        \n",
      "2025-01-08 00:00:00-05:00  241.919998  243.710007  240.050003  242.699997   \n",
      "2025-01-10 00:00:00-05:00  240.009995  240.160004  233.000000  236.850006   \n",
      "2025-01-13 00:00:00-05:00  233.529999  234.669998  229.720001  234.399994   \n",
      "2025-01-14 00:00:00-05:00  234.750000  236.119995  232.470001  233.279999   \n",
      "2025-01-15 00:00:00-05:00  234.639999  238.960007  234.429993  237.869995   \n",
      "2025-01-16 00:00:00-05:00  237.350006  238.009995  228.029999  228.259995   \n",
      "2025-01-17 00:00:00-05:00  232.119995  232.289993  228.479996  229.979996   \n",
      "2025-01-21 00:00:00-05:00  224.000000  224.419998  219.380005  222.639999   \n",
      "2025-01-22 00:00:00-05:00  219.789993  224.119995  219.789993  223.830002   \n",
      "2025-01-23 00:00:00-05:00  224.740005  227.029999  222.300003  223.660004   \n",
      "2025-01-24 00:00:00-05:00  224.779999  225.630005  221.410004  222.779999   \n",
      "2025-01-27 00:00:00-05:00  224.020004  232.149994  223.979996  229.860001   \n",
      "2025-01-28 00:00:00-05:00  230.850006  240.190002  230.809998  238.259995   \n",
      "2025-01-29 00:00:00-05:00  234.119995  239.860001  234.009995  239.360001   \n",
      "2025-01-30 00:00:00-05:00  238.669998  240.789993  237.210007  237.589996   \n",
      "2025-01-31 00:00:00-05:00  247.190002  247.190002  233.440002  236.000000   \n",
      "2025-02-03 00:00:00-05:00  229.990005  231.830002  225.699997  228.009995   \n",
      "2025-02-04 00:00:00-05:00  227.250000  233.130005  226.649994  232.800003   \n",
      "2025-02-05 00:00:00-05:00  228.529999  232.669998  228.270004  232.470001   \n",
      "2025-02-06 00:00:00-05:00  231.289993  233.800003  230.429993  233.220001   \n",
      "2025-02-07 00:00:00-05:00  232.600006  234.000000  227.259995  227.630005   \n",
      "\n",
      "                              Volume  Dividends  Stock Splits  \n",
      "Date                                                           \n",
      "2025-01-08 00:00:00-05:00   37628900        0.0           0.0  \n",
      "2025-01-10 00:00:00-05:00   61710900        0.0           0.0  \n",
      "2025-01-13 00:00:00-05:00   49630700        0.0           0.0  \n",
      "2025-01-14 00:00:00-05:00   39435300        0.0           0.0  \n",
      "2025-01-15 00:00:00-05:00   39832000        0.0           0.0  \n",
      "2025-01-16 00:00:00-05:00   71759100        0.0           0.0  \n",
      "2025-01-17 00:00:00-05:00   68488300        0.0           0.0  \n",
      "2025-01-21 00:00:00-05:00   98070400        0.0           0.0  \n",
      "2025-01-22 00:00:00-05:00   64126500        0.0           0.0  \n",
      "2025-01-23 00:00:00-05:00   60234800        0.0           0.0  \n",
      "2025-01-24 00:00:00-05:00   54697900        0.0           0.0  \n",
      "2025-01-27 00:00:00-05:00   94863400        0.0           0.0  \n",
      "2025-01-28 00:00:00-05:00   75707600        0.0           0.0  \n",
      "2025-01-29 00:00:00-05:00   45486100        0.0           0.0  \n",
      "2025-01-30 00:00:00-05:00   55658300        0.0           0.0  \n",
      "2025-01-31 00:00:00-05:00  101075100        0.0           0.0  \n",
      "2025-02-03 00:00:00-05:00   73063300        0.0           0.0  \n",
      "2025-02-04 00:00:00-05:00   45067300        0.0           0.0  \n",
      "2025-02-05 00:00:00-05:00   39620300        0.0           0.0  \n",
      "2025-02-06 00:00:00-05:00   29925300        0.0           0.0  \n",
      "2025-02-07 00:00:00-05:00   39666100        0.0           0.0  \n"
     ]
    }
   ],
   "source": [
    "# Fetch stock data for Apple Inc. (AAPL)\n",
    "ticker = yf.Ticker(\"AAPL\")\n",
    "\n",
    "# Get historical stock prices for the last 1 month\n",
    "data = ticker.history(period=\"1mo\")\n",
    "print(\"Historical Stock Data:\")\n",
    "print(data)\n"
   ]
  },
  {
   "cell_type": "code",
   "execution_count": 4,
   "id": "ab215ff2",
   "metadata": {},
   "outputs": [
    {
     "name": "stdout",
     "output_type": "stream",
     "text": [
      "There are 21 trading days in the data.\n"
     ]
    }
   ],
   "source": [
    "# Display all the rows of stock data\n",
    "# Count the number of rows (representing trading days)\n",
    "print(f\"There are {len(data)} trading days in the data.\")\n"
   ]
  },
  {
   "cell_type": "code",
   "execution_count": 5,
   "id": "b23a4674",
   "metadata": {},
   "outputs": [
    {
     "name": "stdout",
     "output_type": "stream",
     "text": [
      "First Row (First Trading Day):\n",
      "Open            2.419200e+02\n",
      "High            2.437100e+02\n",
      "Low             2.400500e+02\n",
      "Close           2.427000e+02\n",
      "Volume          3.762890e+07\n",
      "Dividends       0.000000e+00\n",
      "Stock Splits    0.000000e+00\n",
      "Name: 2025-01-08 00:00:00-05:00, dtype: float64\n"
     ]
    }
   ],
   "source": [
    "first_row = data.iloc[0]\n",
    "print(\"First Row (First Trading Day):\")\n",
    "print(first_row)"
   ]
  },
  {
   "cell_type": "code",
   "execution_count": 6,
   "id": "76264377",
   "metadata": {},
   "outputs": [
    {
     "name": "stdout",
     "output_type": "stream",
     "text": [
      "Trading Dates:\n",
      "DatetimeIndex(['2025-01-08 00:00:00-05:00', '2025-01-10 00:00:00-05:00',\n",
      "               '2025-01-13 00:00:00-05:00', '2025-01-14 00:00:00-05:00',\n",
      "               '2025-01-15 00:00:00-05:00', '2025-01-16 00:00:00-05:00',\n",
      "               '2025-01-17 00:00:00-05:00', '2025-01-21 00:00:00-05:00',\n",
      "               '2025-01-22 00:00:00-05:00', '2025-01-23 00:00:00-05:00',\n",
      "               '2025-01-24 00:00:00-05:00', '2025-01-27 00:00:00-05:00',\n",
      "               '2025-01-28 00:00:00-05:00', '2025-01-29 00:00:00-05:00',\n",
      "               '2025-01-30 00:00:00-05:00', '2025-01-31 00:00:00-05:00',\n",
      "               '2025-02-03 00:00:00-05:00', '2025-02-04 00:00:00-05:00',\n",
      "               '2025-02-05 00:00:00-05:00', '2025-02-06 00:00:00-05:00',\n",
      "               '2025-02-07 00:00:00-05:00'],\n",
      "              dtype='datetime64[ns, America/New_York]', name='Date', freq=None)\n"
     ]
    }
   ],
   "source": [
    "print(\"Trading Dates:\")\n",
    "print(data.index)\n"
   ]
  },
  {
   "cell_type": "code",
   "execution_count": 7,
   "id": "b817796b-be5e-4644-b52e-8cbcccbaf2fe",
   "metadata": {},
   "outputs": [
    {
     "name": "stdout",
     "output_type": "stream",
     "text": [
      "                                 Open        High         Low       Close     Volume  Dividends  Stock Splits\n",
      "Date                                                                                                         \n",
      "2025-01-08 00:00:00-05:00  241.919998  243.710007  240.050003  242.699997   37628900        0.0           0.0\n",
      "2025-01-10 00:00:00-05:00  240.009995  240.160004  233.000000  236.850006   61710900        0.0           0.0\n",
      "2025-01-13 00:00:00-05:00  233.529999  234.669998  229.720001  234.399994   49630700        0.0           0.0\n",
      "2025-01-14 00:00:00-05:00  234.750000  236.119995  232.470001  233.279999   39435300        0.0           0.0\n",
      "2025-01-15 00:00:00-05:00  234.639999  238.960007  234.429993  237.869995   39832000        0.0           0.0\n",
      "2025-01-16 00:00:00-05:00  237.350006  238.009995  228.029999  228.259995   71759100        0.0           0.0\n",
      "2025-01-17 00:00:00-05:00  232.119995  232.289993  228.479996  229.979996   68488300        0.0           0.0\n",
      "2025-01-21 00:00:00-05:00  224.000000  224.419998  219.380005  222.639999   98070400        0.0           0.0\n",
      "2025-01-22 00:00:00-05:00  219.789993  224.119995  219.789993  223.830002   64126500        0.0           0.0\n",
      "2025-01-23 00:00:00-05:00  224.740005  227.029999  222.300003  223.660004   60234800        0.0           0.0\n",
      "2025-01-24 00:00:00-05:00  224.779999  225.630005  221.410004  222.779999   54697900        0.0           0.0\n",
      "2025-01-27 00:00:00-05:00  224.020004  232.149994  223.979996  229.860001   94863400        0.0           0.0\n",
      "2025-01-28 00:00:00-05:00  230.850006  240.190002  230.809998  238.259995   75707600        0.0           0.0\n",
      "2025-01-29 00:00:00-05:00  234.119995  239.860001  234.009995  239.360001   45486100        0.0           0.0\n",
      "2025-01-30 00:00:00-05:00  238.669998  240.789993  237.210007  237.589996   55658300        0.0           0.0\n",
      "2025-01-31 00:00:00-05:00  247.190002  247.190002  233.440002  236.000000  101075100        0.0           0.0\n",
      "2025-02-03 00:00:00-05:00  229.990005  231.830002  225.699997  228.009995   73063300        0.0           0.0\n",
      "2025-02-04 00:00:00-05:00  227.250000  233.130005  226.649994  232.800003   45067300        0.0           0.0\n",
      "2025-02-05 00:00:00-05:00  228.529999  232.669998  228.270004  232.470001   39620300        0.0           0.0\n",
      "2025-02-06 00:00:00-05:00  231.289993  233.800003  230.429993  233.220001   29925300        0.0           0.0\n",
      "2025-02-07 00:00:00-05:00  232.600006  234.000000  227.259995  227.630005   39666100        0.0           0.0\n"
     ]
    }
   ],
   "source": [
    "# Convert DataFrame to a string\n",
    "data_string = data.to_string()\n",
    "print(data_string)"
   ]
  },
  {
   "cell_type": "code",
   "execution_count": 8,
   "id": "dc4fd92f-ffc4-4f44-9f99-7b07cda8838c",
   "metadata": {},
   "outputs": [
    {
     "name": "stdout",
     "output_type": "stream",
     "text": [
      "Data written to 'apple_stock_data.csv'\n"
     ]
    }
   ],
   "source": [
    "# Save the data to a CSV file\n",
    "data.to_csv(\"apple_stock_data.csv\")\n",
    "print(\"Data written to 'apple_stock_data.csv'\")"
   ]
  },
  {
   "cell_type": "code",
   "execution_count": null,
   "id": "6f72acc8-2084-4ef5-98f3-7c8aab6452f1",
   "metadata": {},
   "outputs": [],
   "source": []
  },
  {
   "cell_type": "code",
   "execution_count": null,
   "id": "6d463381-5925-4fc9-83f4-df0c555c2706",
   "metadata": {},
   "outputs": [],
   "source": []
  }
 ],
 "metadata": {
  "kernelspec": {
   "display_name": "Python 3 (ipykernel)",
   "language": "python",
   "name": "python3"
  },
  "language_info": {
   "codemirror_mode": {
    "name": "ipython",
    "version": 3
   },
   "file_extension": ".py",
   "mimetype": "text/x-python",
   "name": "python",
   "nbconvert_exporter": "python",
   "pygments_lexer": "ipython3",
   "version": "3.12.2"
  }
 },
 "nbformat": 4,
 "nbformat_minor": 5
}
