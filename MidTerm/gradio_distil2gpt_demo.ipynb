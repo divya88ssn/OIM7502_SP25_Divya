{
 "cells": [
  {
   "cell_type": "markdown",
   "id": "9383bafa",
   "metadata": {},
   "source": [
    "### Prompt Engineering Playground 🚀\n",
    "\n",
    "This notebook demonstrates **prompt engineering** using **Hugging Face LLMs** and **Gradio**. You'll learn how to:\n",
    "\n",
    "✅ Explore different prompt types  \n",
    "✅ Control LLM outputs with parameters (temperature, top-p, max tokens)  \n",
    "✅ Build an interactive **Gradio app** for live prompt experimentation  \n",
    "\n",
    "By the end of this notebook, you'll have an **interactive playground** you can deploy on **Hugging Face Spaces**!\n"
   ]
  },
  {
   "cell_type": "code",
   "execution_count": 1,
   "id": "902fe3bd",
   "metadata": {},
   "outputs": [
    {
     "name": "stdout",
     "output_type": "stream",
     "text": [
      "* Running on local URL:  http://127.0.0.1:7860\n",
      "\n",
      "To create a public link, set `share=True` in `launch()`.\n"
     ]
    },
    {
     "data": {
      "text/html": [
       "<div><iframe src=\"http://127.0.0.1:7860/\" width=\"100%\" height=\"500\" allow=\"autoplay; camera; microphone; clipboard-read; clipboard-write;\" frameborder=\"0\" allowfullscreen></iframe></div>"
      ],
      "text/plain": [
       "<IPython.core.display.HTML object>"
      ]
     },
     "metadata": {},
     "output_type": "display_data"
    },
    {
     "data": {
      "text/plain": []
     },
     "execution_count": 1,
     "metadata": {},
     "output_type": "execute_result"
    },
    {
     "name": "stderr",
     "output_type": "stream",
     "text": [
      "Setting `pad_token_id` to `eos_token_id`:50256 for open-end generation.\n",
      "Setting `pad_token_id` to `eos_token_id`:50256 for open-end generation.\n"
     ]
    }
   ],
   "source": [
    "import gradio as gr\n",
    "from transformers import AutoTokenizer, AutoModelForCausalLM\n",
    "\n",
    "# Load the distilgpt2 model and tokenizer\n",
    "model_id = \"distilgpt2\"\n",
    "tokenizer = AutoTokenizer.from_pretrained(model_id)\n",
    "model = AutoModelForCausalLM.from_pretrained(model_id)\n",
    "\n",
    "# Set device (CPU)\n",
    "device = \"cpu\"\n",
    "model.to(device)\n",
    "\n",
    "# Function that runs the generation\n",
    "def generate_text(prompt, max_tokens=100, temperature=0.7, top_p=0.9):\n",
    "    # Tokenize the prompt\n",
    "    inputs = tokenizer(prompt, return_tensors=\"pt\", truncation=True, max_length=512)\n",
    "    inputs = {key: val.to(device) for key, val in inputs.items()}\n",
    "\n",
    "    # Generate the output\n",
    "    outputs = model.generate(\n",
    "        **inputs,\n",
    "        max_length=max_tokens,\n",
    "        temperature=temperature,\n",
    "        top_p=top_p,\n",
    "        repetition_penalty=1.5,\n",
    "        do_sample=True\n",
    "    )\n",
    "\n",
    "    # Decode and return the generated text\n",
    "    generated_text = tokenizer.decode(outputs[0], skip_special_tokens=True)\n",
    "    \n",
    "    return generated_text\n",
    "\n",
    "# Create Gradio interface\n",
    "with gr.Blocks() as demo:\n",
    "    gr.Markdown(\"# 🤖 distilgpt2 Zero-Shot Prompting Playground\")\n",
    "\n",
    "    with gr.Row():\n",
    "        prompt_input = gr.Textbox(label=\"Enter your prompt\", lines=4, placeholder=\"Write your prompt here...\")\n",
    "    \n",
    "    with gr.Row():\n",
    "        max_tokens_slider = gr.Slider(10, 200, value=100, step=10, label=\"Max Tokens\")\n",
    "        temperature_slider = gr.Slider(0.1, 1.5, value=0.7, step=0.1, label=\"Temperature\")\n",
    "        top_p_slider = gr.Slider(0.1, 1.0, value=0.9, step=0.1, label=\"Top-p\")\n",
    "    \n",
    "    output_box = gr.Textbox(label=\"Generated Text\", lines=10)\n",
    "\n",
    "    generate_button = gr.Button(\"Generate Text\")\n",
    "\n",
    "    # When button clicked, run generate_text()\n",
    "    generate_button.click(\n",
    "        generate_text,\n",
    "        inputs=[prompt_input, max_tokens_slider, temperature_slider, top_p_slider],\n",
    "        outputs=output_box\n",
    "    )\n",
    "\n",
    "# Launch app\n",
    "demo.launch()\n"
   ]
  },
  {
   "cell_type": "code",
   "execution_count": null,
   "id": "6fef4a8c",
   "metadata": {},
   "outputs": [],
   "source": []
  },
  {
   "cell_type": "code",
   "execution_count": null,
   "id": "24a2da5c-f0cd-4150-a559-10a037bf0f6f",
   "metadata": {},
   "outputs": [],
   "source": []
  },
  {
   "cell_type": "code",
   "execution_count": null,
   "id": "2f2325ab-aacf-47d9-b925-6c9f78b40233",
   "metadata": {},
   "outputs": [],
   "source": []
  },
  {
   "cell_type": "code",
   "execution_count": null,
   "id": "8aeb4754-e730-4804-baa7-3f2381df494a",
   "metadata": {},
   "outputs": [],
   "source": []
  }
 ],
 "metadata": {
  "kernelspec": {
   "display_name": "Python 3 (ipykernel)",
   "language": "python",
   "name": "python3"
  },
  "language_info": {
   "codemirror_mode": {
    "name": "ipython",
    "version": 3
   },
   "file_extension": ".py",
   "mimetype": "text/x-python",
   "name": "python",
   "nbconvert_exporter": "python",
   "pygments_lexer": "ipython3",
   "version": "3.12.2"
  }
 },
 "nbformat": 4,
 "nbformat_minor": 5
}
