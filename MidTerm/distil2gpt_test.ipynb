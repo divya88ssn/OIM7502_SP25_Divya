{
 "cells": [
  {
   "cell_type": "markdown",
   "id": "9383bafa",
   "metadata": {},
   "source": [
    "### Prompt Engineering Playground 🚀\n",
    "\n",
    "This notebook demonstrates **prompt engineering** using **Hugging Face LLMs** and **Gradio**. You'll learn how to:\n",
    "\n",
    "✅ Explore different prompt types  \n",
    "✅ Control LLM outputs with parameters (temperature, top-p, max tokens)  \n",
    "✅ Build an interactive **Gradio app** for live prompt experimentation  \n",
    "\n",
    "By the end of this notebook, you'll have an **interactive playground** you can deploy on **Hugging Face Spaces**!\n"
   ]
  },
  {
   "cell_type": "code",
   "execution_count": 1,
   "id": "902fe3bd",
   "metadata": {},
   "outputs": [
    {
     "name": "stdout",
     "output_type": "stream",
     "text": [
      "🔄 Loading model: distilgpt2...\n"
     ]
    }
   ],
   "source": [
    "from transformers import AutoTokenizer, AutoModelForCausalLM\n",
    "\n",
    "# Step 2: Load the Model and Tokenizer\n",
    "model_id = \"distilgpt2\"\n",
    "print(f\"🔄 Loading model: {model_id}...\")\n"
   ]
  },
  {
   "cell_type": "code",
   "execution_count": 2,
   "id": "6fef4a8c",
   "metadata": {},
   "outputs": [
    {
     "name": "stdout",
     "output_type": "stream",
     "text": [
      "Model loaded successfully and moved to CPU!\n"
     ]
    }
   ],
   "source": [
    "tokenizer = AutoTokenizer.from_pretrained(model_id)\n",
    "model = AutoModelForCausalLM.from_pretrained(model_id)\n",
    "\n",
    "# Step 3: Set device to CPU (your laptop)\n",
    "device = \"cpu\"\n",
    "model.to(device)\n",
    "\n",
    "print(\"Model loaded successfully and moved to CPU!\")"
   ]
  },
  {
   "cell_type": "code",
   "execution_count": 4,
   "id": "24a2da5c-f0cd-4150-a559-10a037bf0f6f",
   "metadata": {},
   "outputs": [
    {
     "name": "stderr",
     "output_type": "stream",
     "text": [
      "Setting `pad_token_id` to `eos_token_id`:50256 for open-end generation.\n"
     ]
    },
    {
     "name": "stdout",
     "output_type": "stream",
     "text": [
      "============================================================\n",
      "Final Output:\n",
      "Explain how neural networks work in simple terms.\n",
      "I'm not quite sure where these are going to get out, but I think there will be a lot more of them that come into the next few years and it may very well become better for us as we grow faster than previously thought about this phenomenon . So what is possible? It's still up to human beings with different brain types -- particularly those who have had many or even thousands of new neurons since their early days (before they were really\n",
      "============================================================\n"
     ]
    }
   ],
   "source": [
    "# Step 4: Define the Generate Function\n",
    "def generate_response(user_prompt, temperature=0.9, top_p=0.85, max_tokens=100):\n",
    "    \"\"\"\n",
    "    Generate a response from the model based on the user's prompt and parameters.\n",
    "    \"\"\"\n",
    "    # Combine system + user prompts\n",
    "   # full_prompt = f\"{system_prompt}\\n\\n{user_prompt}\"\n",
    "    \n",
    "    #print(f\"\\n📝 Full Prompt:\\n{full_prompt}\\n\")\n",
    "    \n",
    "    # Tokenize input and explicitly truncate\n",
    "    inputs = tokenizer(\n",
    "        user_prompt,\n",
    "        return_tensors=\"pt\",\n",
    "        truncation=True,\n",
    "        max_length=512  # Or set the model's context window\n",
    "    )\n",
    "\n",
    "     # Move inputs to the CPU\n",
    "    inputs = {k: v.to(device) for k, v in inputs.items()}\n",
    "\n",
    "    # Generate tokens\n",
    "    outputs = model.generate(\n",
    "        **inputs,\n",
    "        max_length=max_tokens,\n",
    "        temperature=temperature,\n",
    "        top_p=top_p,\n",
    "        repetition_penalty=1.5,  # Try values between 1.1 and 2.0\n",
    "        do_sample=True\n",
    "    )\n",
    "\n",
    "    # Decode output tokens\n",
    "    generated_text = tokenizer.decode(outputs[0], skip_special_tokens=True)\n",
    "\n",
    "    #print(f\"🖋️ Model Response:\\n{generated_text}\\n\")\n",
    "    \n",
    "    return generated_text\n",
    "\n",
    "# Step 5: Example Usage\n",
    "if __name__ == \"__main__\":\n",
    "    # Example prompts\n",
    "    user_prompt1 = \"Explain how neural networks work in simple terms.\"\n",
    "\n",
    "    user_prompt2 = \"\"\"Translate English to French:\n",
    "1. Hello → Bonjour\n",
    "2. Thank you → Merci\n",
    "3. I love you →\"\"\"\n",
    "\n",
    "    # Parameters for generation\n",
    "    temperature = 0.9\n",
    "    top_p = 0.85\n",
    "    max_tokens = 100\n",
    "\n",
    "    # Generate and display the response\n",
    "    response = generate_response(user_prompt1, temperature, top_p, max_tokens)\n",
    "    \n",
    "    print(\"=\" * 60)\n",
    "    print(f\"Final Output:\\n{response}\")\n",
    "    print(\"=\" * 60)\n"
   ]
  },
  {
   "cell_type": "code",
   "execution_count": null,
   "id": "2f2325ab-aacf-47d9-b925-6c9f78b40233",
   "metadata": {},
   "outputs": [],
   "source": []
  },
  {
   "cell_type": "code",
   "execution_count": null,
   "id": "8aeb4754-e730-4804-baa7-3f2381df494a",
   "metadata": {},
   "outputs": [],
   "source": []
  }
 ],
 "metadata": {
  "kernelspec": {
   "display_name": "Python 3 (ipykernel)",
   "language": "python",
   "name": "python3"
  },
  "language_info": {
   "codemirror_mode": {
    "name": "ipython",
    "version": 3
   },
   "file_extension": ".py",
   "mimetype": "text/x-python",
   "name": "python",
   "nbconvert_exporter": "python",
   "pygments_lexer": "ipython3",
   "version": "3.12.2"
  }
 },
 "nbformat": 4,
 "nbformat_minor": 5
}
