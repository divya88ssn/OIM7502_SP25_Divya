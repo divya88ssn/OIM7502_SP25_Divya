{
 "cells": [
  {
   "cell_type": "markdown",
   "id": "9383bafa",
   "metadata": {},
   "source": [
    "## Name:        Divya Gunasekaran\n",
    "\n",
    "## Library:     Gradio\n",
    "\n",
    "## URL:         https://gradio.app/docs\n",
    "\n",
    "Description:\n",
    "This library simplifies the creation of user-friendly web interfaces for machine learning models and data science tools.\n",
    "Gradio allows developers to build and share demos quickly by offering intuitive components such as chatbots, sliders, dropdowns, and more.\n",
    "It also provides easy sharing through public links and seamless integration with Hugging Face Spaces, making it a powerful tool for showcasing models and collecting user feedback.\n"
   ]
  },
  {
   "cell_type": "markdown",
   "id": "1880430f-7dfe-4d85-ba89-d187aeda422e",
   "metadata": {},
   "source": [
    "### Simple Gradio Interface with Multiple Inputs\n",
    "What This Demonstrates\n",
    "This example shows how to use Gradio’s Interface class to quickly create a simple web application with:\n",
    "\n",
    "✅ Multiple input components: A Textbox and a Slider.\n",
    "\n",
    "✅ Text output, showing dynamic feedback based on user input.\n",
    "\n",
    "✅ Minimal code required to turn a Python function into an interactive app.\n",
    "\n",
    "\n",
    "Key Gradio Features\n",
    "\n",
    "gr.Interface: Interface is Gradio's main high-level class, and allows you to create a web-based GUI / demo around a machine learning model (or any Python function) in a few lines of code.\n",
    "\n",
    "Inputs:\n",
    "\n",
    "\"text\" component to accept the user’s name.\n",
    "\n",
    "\"slider\" component to control the intensity (how many times to repeat the greeting).\n",
    "\n",
    "Outputs:\n",
    "\n",
    "\"text\" output that displays the generated greeting.\n",
    "\n",
    "demo.launch(): Instantly runs the app on localhost and provides a public link if needed (by adding share=True)."
   ]
  },
  {
   "cell_type": "code",
   "execution_count": 1,
   "id": "f7e8f054-7c7f-4977-8a19-fa028141d269",
   "metadata": {},
   "outputs": [
    {
     "name": "stdout",
     "output_type": "stream",
     "text": [
      "* Running on local URL:  http://127.0.0.1:7860\n",
      "\n",
      "To create a public link, set `share=True` in `launch()`.\n"
     ]
    },
    {
     "data": {
      "text/html": [
       "<div><iframe src=\"http://127.0.0.1:7860/\" width=\"100%\" height=\"500\" allow=\"autoplay; camera; microphone; clipboard-read; clipboard-write;\" frameborder=\"0\" allowfullscreen></iframe></div>"
      ],
      "text/plain": [
       "<IPython.core.display.HTML object>"
      ]
     },
     "metadata": {},
     "output_type": "display_data"
    },
    {
     "data": {
      "text/plain": []
     },
     "execution_count": 1,
     "metadata": {},
     "output_type": "execute_result"
    }
   ],
   "source": [
    "import gradio as gr\n",
    "\n",
    "def greet(name, intensity):\n",
    "    return \"Hello, \" + name + \"!\" * int(intensity)\n",
    "\n",
    "demo = gr.Interface(\n",
    "    fn=greet,\n",
    "    inputs=[\"text\", \"slider\"],\n",
    "    outputs=[\"text\"],\n",
    ")\n",
    "\n",
    "demo.launch()"
   ]
  },
  {
   "cell_type": "markdown",
   "id": "f5e7e7f8-0db3-4c1c-a077-9fe4ae81053e",
   "metadata": {},
   "source": [
    "### Persistent State and JSON Output with Gradio\n",
    "\n",
    "This example shows how Gradio can maintain state across user interactions by using a Python list (scores) to track multiple submissions. It also demonstrates using gr.JSON() to display structured data in the UI.\n",
    "\n",
    "Key Gradio Features:\n",
    "\n",
    "State Management (Manual)\n",
    "\n",
    "The Python list scores accumulates user inputs, showing how you can maintain persistent data across different interactions.\n",
    "\n",
    "This demonstrates Gradio’s ability to support stateful applications, which is important for use cases like leaderboards, score tracking, or conversational memory.\n",
    "\n",
    "JSON Output Component\n",
    "\n",
    "gr.JSON() displays the top scores in an easy-to-read, structured JSON format.\n",
    "\n",
    "Useful for structured outputs like dictionaries, lists, or JSON responses.\n",
    "\n"
   ]
  },
  {
   "cell_type": "code",
   "execution_count": 2,
   "id": "a168cfb8-da56-4d55-bf76-280fa37c361d",
   "metadata": {},
   "outputs": [
    {
     "name": "stdout",
     "output_type": "stream",
     "text": [
      "* Running on local URL:  http://127.0.0.1:7861\n",
      "\n",
      "To create a public link, set `share=True` in `launch()`.\n"
     ]
    },
    {
     "data": {
      "text/html": [
       "<div><iframe src=\"http://127.0.0.1:7861/\" width=\"100%\" height=\"500\" allow=\"autoplay; camera; microphone; clipboard-read; clipboard-write;\" frameborder=\"0\" allowfullscreen></iframe></div>"
      ],
      "text/plain": [
       "<IPython.core.display.HTML object>"
      ]
     },
     "metadata": {},
     "output_type": "display_data"
    },
    {
     "data": {
      "text/plain": []
     },
     "execution_count": 2,
     "metadata": {},
     "output_type": "execute_result"
    }
   ],
   "source": [
    "import gradio as gr\n",
    "\n",
    "scores = []\n",
    "\n",
    "def track_score(score):\n",
    "    scores.append(score)\n",
    "    top_scores = sorted(scores, reverse=True)[:3]\n",
    "    return top_scores\n",
    "\n",
    "demo = gr.Interface(\n",
    "    track_score,\n",
    "    gr.Number(label=\"Score\"),\n",
    "    gr.JSON(label=\"Top Scores\")\n",
    ")\n",
    "demo.launch()\n"
   ]
  },
  {
   "cell_type": "markdown",
   "id": "b84f475c-cf3d-4aa8-8026-d05ff7554073",
   "metadata": {},
   "source": [
    "### Demonstrating Gradio's Multimodal Capabilities\n",
    "This example shows how Gradio handles non-textual outputs, specifically images, using the gr.Gallery() component. \n",
    "It demonstrates Gradio's ability to visualize complex model outputs like image generation, classification results, and multimedia content.\n",
    "This example shows how to use the gr.Gallery component in Gradio to display multiple images in a clean, responsive layout. Although this is a simulated GAN (images are hardcoded URLs), it demonstrates the typical workflow of returning multiple images from a model.\n",
    "\n",
    "This also shows a output only interface/layout\n",
    "\n",
    "✅ Key Gradio Features\n",
    "Gallery Output\n",
    "\n",
    "gr.Gallery() allows you to return and display multiple images in a structured grid.\n",
    "\n",
    "The columns argument defines how many columns the images are displayed in (2 columns in this example).\n",
    "\n",
    "Title and Description in Interface\n",
    "\n",
    "title and description make the app self-documenting and more user-friendly.\n",
    "\n",
    "Useful for providing context about what the app does—great for sharing demos!\n",
    "\n",
    "Simulated Delay\n",
    "\n",
    "time.sleep(1) simulates computation time, mimicking how a real GAN might take time to generate images.\n",
    "\n"
   ]
  },
  {
   "cell_type": "code",
   "execution_count": 3,
   "id": "3e488f32-556a-42ea-918e-f0eca627f914",
   "metadata": {},
   "outputs": [
    {
     "name": "stdout",
     "output_type": "stream",
     "text": [
      "* Running on local URL:  http://127.0.0.1:7862\n",
      "\n",
      "To create a public link, set `share=True` in `launch()`.\n"
     ]
    },
    {
     "data": {
      "text/html": [
       "<div><iframe src=\"http://127.0.0.1:7862/\" width=\"100%\" height=\"500\" allow=\"autoplay; camera; microphone; clipboard-read; clipboard-write;\" frameborder=\"0\" allowfullscreen></iframe></div>"
      ],
      "text/plain": [
       "<IPython.core.display.HTML object>"
      ]
     },
     "metadata": {},
     "output_type": "display_data"
    },
    {
     "data": {
      "text/plain": []
     },
     "execution_count": 3,
     "metadata": {},
     "output_type": "execute_result"
    }
   ],
   "source": [
    "import time\n",
    "\n",
    "import gradio as gr\n",
    "\n",
    "def fake_gan():\n",
    "    time.sleep(1)\n",
    "    images = [\n",
    "            \"https://images.unsplash.com/photo-1507003211169-0a1dd7228f2d?ixlib=rb-1.2.1&ixid=MnwxMjA3fDB8MHxwaG90by1wYWdlfHx8fGVufDB8fHx8&auto=format&fit=crop&w=387&q=80\",\n",
    "            \"https://images.unsplash.com/photo-1554151228-14d9def656e4?ixlib=rb-1.2.1&ixid=MnwxMjA3fDB8MHxwaG90by1wYWdlfHx8fGVufDB8fHx8&auto=format&fit=crop&w=386&q=80\",\n",
    "            \"https://images.unsplash.com/photo-1542909168-82c3e7fdca5c?ixlib=rb-1.2.1&ixid=MnwxMjA3fDB8MHxzZWFyY2h8MXx8aHVtYW4lMjBmYWNlfGVufDB8fDB8fA%3D%3D&w=1000&q=80\",\n",
    "    ]\n",
    "    return images\n",
    "\n",
    "demo = gr.Interface(\n",
    "    fn=fake_gan,\n",
    "    inputs=None,\n",
    "    outputs=gr.Gallery(label=\"Generated Images\", columns=[2]),\n",
    "    title=\"FD-GAN\",\n",
    "    description=\"This is a fake demo of a GAN. In reality, the images are randomly chosen from Unsplash.\",\n",
    ")\n",
    "\n",
    "demo.launch()\n"
   ]
  },
  {
   "cell_type": "markdown",
   "id": "5ac72b05-b015-4004-8989-884705491878",
   "metadata": {},
   "source": [
    "### Demonstrating Gradio's Event Handling & Component Linking (Bidirectional Data Flow)\n",
    "\n",
    "This example shows how to use Gradio’s Blocks API to create a custom workflow where UI components interact with each other via button events.\n",
    "\n",
    "\n",
    "✅ Key Gradio Features\n",
    "\n",
    "Component Linking Through Buttons\n",
    "\n",
    "gr.Button() triggers events when clicked.\n",
    "\n",
    ".click() allows you to pass component values as inputs to a function and update another component with the output.\n",
    "\n",
    "This demonstrates inter-component communication, where a button click updates different number inputs.\n",
    "\n",
    "Custom Event Handling\n",
    "\n",
    "You can assign different event actions to different components in the UI (e.g., one button updates another number field).\n",
    "\n",
    "This event-driven interaction is essential for building dynamic dashboards or tools where multiple inputs and outputs are interdependent.\n",
    "\n",
    "Blocks API Layout\n",
    "\n",
    "The Blocks API makes it easy to arrange UI components and wire them together with event logic.\n"
   ]
  },
  {
   "cell_type": "code",
   "execution_count": 4,
   "id": "01a2c2b8-b7f5-4192-a7c0-f3dcbe82a30e",
   "metadata": {},
   "outputs": [
    {
     "name": "stdout",
     "output_type": "stream",
     "text": [
      "* Running on local URL:  http://127.0.0.1:7863\n",
      "\n",
      "To create a public link, set `share=True` in `launch()`.\n"
     ]
    },
    {
     "data": {
      "text/html": [
       "<div><iframe src=\"http://127.0.0.1:7863/\" width=\"100%\" height=\"500\" allow=\"autoplay; camera; microphone; clipboard-read; clipboard-write;\" frameborder=\"0\" allowfullscreen></iframe></div>"
      ],
      "text/plain": [
       "<IPython.core.display.HTML object>"
      ]
     },
     "metadata": {},
     "output_type": "display_data"
    },
    {
     "data": {
      "text/plain": []
     },
     "execution_count": 4,
     "metadata": {},
     "output_type": "execute_result"
    }
   ],
   "source": [
    "import gradio as gr\n",
    "\n",
    "def increase(num):\n",
    "    return num + 1\n",
    "\n",
    "with gr.Blocks() as demo:\n",
    "    a = gr.Number(label=\"a\")\n",
    "    b = gr.Number(label=\"b\")\n",
    "    atob = gr.Button(\"b > a\")\n",
    "    btoa = gr.Button(\"a > b\")\n",
    "    atob.click(increase, a, b)\n",
    "    btoa.click(increase, b, a)\n",
    "\n",
    "demo.launch()"
   ]
  },
  {
   "cell_type": "markdown",
   "id": "4d63ef4d-d88d-4a40-b421-082d7db9fbb2",
   "metadata": {},
   "source": [
    "### Demonstrating Gradio's @gr.render() for Dynamic Component Rendering\n",
    "\n",
    "This example introduces dynamic UI generation using the @gr.render() decorator in Gradio. \n",
    "It dynamically creates UI components based on the user's input at runtime.\n",
    "\n",
    "✅ Key Gradio Features\n",
    "\n",
    "@gr.render() Decorator\n",
    "\n",
    "Allows the interface to dynamically render components based on inputs.\n",
    "Useful when the output layout or components vary depending on user input.\n",
    "Here, the app creates a new Textbox for each letter in the input string.\n",
    "\n",
    "Dynamic Logic in UI\n",
    "\n",
    "If there’s no input, it displays a Markdown message.\n",
    "If there is input, it generates multiple Textboxes, one for each letter.\n",
    "\n"
   ]
  },
  {
   "cell_type": "code",
   "execution_count": 5,
   "id": "c6dc8979-856b-4996-b940-95dcf373deaa",
   "metadata": {},
   "outputs": [
    {
     "name": "stdout",
     "output_type": "stream",
     "text": [
      "* Running on local URL:  http://127.0.0.1:7864\n",
      "\n",
      "To create a public link, set `share=True` in `launch()`.\n"
     ]
    },
    {
     "data": {
      "text/html": [
       "<div><iframe src=\"http://127.0.0.1:7864/\" width=\"100%\" height=\"500\" allow=\"autoplay; camera; microphone; clipboard-read; clipboard-write;\" frameborder=\"0\" allowfullscreen></iframe></div>"
      ],
      "text/plain": [
       "<IPython.core.display.HTML object>"
      ]
     },
     "metadata": {},
     "output_type": "display_data"
    },
    {
     "data": {
      "text/plain": []
     },
     "execution_count": 5,
     "metadata": {},
     "output_type": "execute_result"
    }
   ],
   "source": [
    "import gradio as gr\n",
    "\n",
    "with gr.Blocks() as demo:\n",
    "    input_text = gr.Textbox(label=\"input\")\n",
    "\n",
    "    @gr.render(inputs=input_text)\n",
    "    def show_split(text):\n",
    "        if len(text) == 0:\n",
    "            gr.Markdown(\"## No Input Provided\")\n",
    "        else:\n",
    "            for letter in text:\n",
    "                gr.Textbox(letter)\n",
    "\n",
    "demo.launch()"
   ]
  },
  {
   "cell_type": "markdown",
   "id": "cc6bdb84-a475-4d6c-b8e7-a872e4ec3e62",
   "metadata": {},
   "source": [
    "### Demonstrating Gradio's Visualization Components: LinePlot\n",
    "This example shows how to use Gradio’s built-in data visualization components to create an interactive line plot directly from a Pandas DataFrame.\n",
    "\n",
    "✅ Key Gradio Features\n",
    "gr.LinePlot() Component\n",
    "\n",
    "Plots a line chart from a DataFrame or list data source.\n",
    "\n",
    "Automatically maps x and y axes to DataFrame columns (weight and height in this example).\n",
    "\n",
    "Useful for visualizing trends, comparisons, and time series data.\n",
    "\n",
    "Blocks API for Layout Control\n",
    "\n",
    "The plot is displayed inside a gr.Blocks() container, which makes it easy to combine with other UI components (inputs, outputs, sliders, etc.) for interactive data exploration apps.\n"
   ]
  },
  {
   "cell_type": "code",
   "execution_count": 6,
   "id": "7b6de03c-7395-4f35-aa6e-a16afbd4ae66",
   "metadata": {
    "scrolled": true
   },
   "outputs": [
    {
     "name": "stdout",
     "output_type": "stream",
     "text": [
      "* Running on local URL:  http://127.0.0.1:7865\n",
      "\n",
      "To create a public link, set `share=True` in `launch()`.\n"
     ]
    },
    {
     "data": {
      "text/html": [
       "<div><iframe src=\"http://127.0.0.1:7865/\" width=\"100%\" height=\"500\" allow=\"autoplay; camera; microphone; clipboard-read; clipboard-write;\" frameborder=\"0\" allowfullscreen></iframe></div>"
      ],
      "text/plain": [
       "<IPython.core.display.HTML object>"
      ]
     },
     "metadata": {},
     "output_type": "display_data"
    },
    {
     "data": {
      "text/plain": []
     },
     "execution_count": 6,
     "metadata": {},
     "output_type": "execute_result"
    }
   ],
   "source": [
    "import gradio as gr\n",
    "import pandas as pd\n",
    "import numpy as np\n",
    "import random\n",
    "\n",
    "df = pd.DataFrame({\n",
    "    'height': np.random.randint(50, 70, 25),\n",
    "    'weight': np.random.randint(120, 320, 25),\n",
    "    'age': np.random.randint(18, 65, 25),\n",
    "    'ethnicity': [random.choice([\"white\", \"black\", \"asian\"]) for _ in range(25)]\n",
    "})\n",
    "\n",
    "with gr.Blocks() as demo:\n",
    "    gr.LinePlot(df, x=\"weight\", y=\"height\")\n",
    "\n",
    "demo.launch()"
   ]
  },
  {
   "cell_type": "code",
   "execution_count": null,
   "id": "09b16c2a-acc2-4c81-8804-a108f3724414",
   "metadata": {},
   "outputs": [],
   "source": []
  },
  {
   "cell_type": "code",
   "execution_count": null,
   "id": "0bf2159b-bd47-4941-8cd9-2f9043810d8c",
   "metadata": {},
   "outputs": [],
   "source": []
  }
 ],
 "metadata": {
  "kernelspec": {
   "display_name": "Python 3 (ipykernel)",
   "language": "python",
   "name": "python3"
  },
  "language_info": {
   "codemirror_mode": {
    "name": "ipython",
    "version": 3
   },
   "file_extension": ".py",
   "mimetype": "text/x-python",
   "name": "python",
   "nbconvert_exporter": "python",
   "pygments_lexer": "ipython3",
   "version": "3.12.2"
  }
 },
 "nbformat": 4,
 "nbformat_minor": 5
}
