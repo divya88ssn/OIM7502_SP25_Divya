{
 "cells": [
  {
   "cell_type": "markdown",
   "id": "4a7f66be",
   "metadata": {},
   "source": [
    "# Assignment 2\n",
    "In this assignment you will be working with three data files from iMDB:\n",
    "\n",
    "cast.csv\n",
    "\n",
    "release_dates.csv\n",
    "\n",
    "titles.csv\n",
    "\n",
    "Using the appropriate file(s), answer the following questions\n",
    "\n",
    "Some questions can be completed with one-liners while others are a bit more involved\n",
    "\n",
    "Where appropriate, answers should also provide brief commentary\n",
    "\n",
    "Exclude data that doen't make senss, i.e. data from the future\n",
    "\n",
    "Once complete upload this notebook to your classwork Github repo and post the link on Canvas"
   ]
  },
  {
   "cell_type": "code",
   "execution_count": 20,
   "id": "6ba0bd16",
   "metadata": {},
   "outputs": [
    {
     "name": "stdout",
     "output_type": "stream",
     "text": [
      "Saved: data/title_sample.tsv\n",
      "Saved: data/cast_sample.tsv\n",
      "Saved: data/release_sample.tsv\n"
     ]
    }
   ],
   "source": [
    "import pandas as pd\n",
    "\n",
    "# Define input and output paths\n",
    "files = {\n",
    "    \"data/title.basics.tsv\": \"data/title_sample.tsv\",\n",
    "    \"data/title.principals.tsv\": \"data/cast_sample.tsv\",\n",
    "    \"data/title.akas.tsv\": \"data/release_sample.tsv\"\n",
    "}\n",
    "\n",
    "# Process each file\n",
    "for input_path, output_path in files.items():\n",
    "    df = pd.read_csv(input_path, sep=\"\\t\", nrows=50000) #read first 50,000 rows as pandas dataframe\n",
    "    df.to_csv(output_path, sep=\"\\t\", index=False)\n",
    "    print(f\"Saved: {output_path}\")\n"
   ]
  },
  {
   "cell_type": "code",
   "execution_count": 21,
   "id": "36ae8a3f",
   "metadata": {
    "scrolled": true
   },
   "outputs": [],
   "source": [
    "titles = pd.read_csv(\"data/title_sample.tsv\", sep=\"\\t\")\n",
    "cast = pd.read_csv(\"data/cast_sample.tsv\", sep=\"\\t\")\n",
    "release = pd.read_csv(\"data/release_sample.tsv\", sep=\"\\t\")\n"
   ]
  },
  {
   "cell_type": "code",
   "execution_count": 22,
   "id": "f7806c7a-d4b9-4094-a975-499bedbeef14",
   "metadata": {},
   "outputs": [
    {
     "name": "stdout",
     "output_type": "stream",
     "text": [
      "Titles info:\n",
      "<class 'pandas.core.frame.DataFrame'>\n",
      "RangeIndex: 50000 entries, 0 to 49999\n",
      "Data columns (total 9 columns):\n",
      " #   Column          Non-Null Count  Dtype \n",
      "---  ------          --------------  ----- \n",
      " 0   tconst          50000 non-null  object\n",
      " 1   titleType       50000 non-null  object\n",
      " 2   primaryTitle    50000 non-null  object\n",
      " 3   originalTitle   50000 non-null  object\n",
      " 4   isAdult         50000 non-null  int64 \n",
      " 5   startYear       50000 non-null  object\n",
      " 6   endYear         50000 non-null  object\n",
      " 7   runtimeMinutes  50000 non-null  object\n",
      " 8   genres          50000 non-null  object\n",
      "dtypes: int64(1), object(8)\n",
      "memory usage: 3.4+ MB\n",
      "\n",
      "Cast info:\n",
      "<class 'pandas.core.frame.DataFrame'>\n",
      "RangeIndex: 50000 entries, 0 to 49999\n",
      "Data columns (total 6 columns):\n",
      " #   Column      Non-Null Count  Dtype \n",
      "---  ------      --------------  ----- \n",
      " 0   tconst      50000 non-null  object\n",
      " 1   ordering    50000 non-null  int64 \n",
      " 2   nconst      50000 non-null  object\n",
      " 3   category    50000 non-null  object\n",
      " 4   job         50000 non-null  object\n",
      " 5   characters  50000 non-null  object\n",
      "dtypes: int64(1), object(5)\n",
      "memory usage: 2.3+ MB\n",
      "\n",
      "Release Dates info:\n",
      "<class 'pandas.core.frame.DataFrame'>\n",
      "RangeIndex: 50000 entries, 0 to 49999\n",
      "Data columns (total 8 columns):\n",
      " #   Column           Non-Null Count  Dtype \n",
      "---  ------           --------------  ----- \n",
      " 0   titleId          50000 non-null  object\n",
      " 1   ordering         50000 non-null  int64 \n",
      " 2   title            50000 non-null  object\n",
      " 3   region           50000 non-null  object\n",
      " 4   language         50000 non-null  object\n",
      " 5   types            50000 non-null  object\n",
      " 6   attributes       50000 non-null  object\n",
      " 7   isOriginalTitle  50000 non-null  int64 \n",
      "dtypes: int64(2), object(6)\n",
      "memory usage: 3.1+ MB\n"
     ]
    }
   ],
   "source": [
    "# Q1: High level assessment\n",
    "print(\"Titles info:\")\n",
    "titles.info()\n",
    "print(\"\\nCast info:\")\n",
    "cast.info()\n",
    "print(\"\\nRelease Dates info:\")\n",
    "release.info()"
   ]
  },
  {
   "cell_type": "code",
   "execution_count": 12,
   "id": "a3fe7eb0-5177-4940-88fc-be67002390f9",
   "metadata": {},
   "outputs": [
    {
     "name": "stdout",
     "output_type": "stream",
     "text": [
      "🎬 Sample from Titles:\n",
      "        tconst titleType                                   primaryTitle  \\\n",
      "521  tt0000525     short                      Hanging at Jefferson City   \n",
      "737  tt0000747     short                                   The Reg Girl   \n",
      "740  tt0000750     short                                    Richard III   \n",
      "660  tt0000667     short  Corrida de toros con Ricardo Torres 'Bombita'   \n",
      "411  tt0000415     short                             A Peculiar Cabinet   \n",
      "\n",
      "                                         originalTitle  isAdult  startYear  \\\n",
      "521                         Pendaison à Jefferson City        0     1910.0   \n",
      "737                                       The Red Girl        0     1908.0   \n",
      "740                                        Richard III        0     1908.0   \n",
      "660      Corrida de toros con Ricardo Torres 'Bombita'        0     1908.0   \n",
      "411  Une scène en cabinet particulier vue à travers...        0     1902.0   \n",
      "\n",
      "    endYear runtimeMinutes                   genres  \n",
      "521      \\N              7            Short,Western  \n",
      "737      \\N             17             Action,Short  \n",
      "740      \\N             \\N              Drama,Short  \n",
      "660      \\N              9  Documentary,Short,Sport  \n",
      "411      \\N             \\N                    Short  \n",
      "\n",
      "🎭 Sample from Cast:\n",
      "        tconst  ordering     nconst  category job     characters\n",
      "521  tt0000235         3  nm0617588     actor  \\N  [\"The Devil\"]\n",
      "737  tt0000351         2  nm0815907   actress  \\N             \\N\n",
      "740  tt0000354         1  nm0182052  director  \\N             \\N\n",
      "660  tt0000308         3  nm0808310  director  \\N             \\N\n",
      "411  tt0000183         1  nm0808310  director  \\N             \\N\n",
      "\n",
      "📅 Sample from Release Dates:\n",
      "       titleId  ordering                                          title  \\\n",
      "521  tt0000080         1                             Grandes manoeuvres   \n",
      "737  tt0000138         5                            Zaczarowana gospoda   \n",
      "740  tt0000139         1                                      L'aveugle   \n",
      "660  tt0000117         4  Workers Exit from the Confianca Shirt Factory   \n",
      "411  tt0000051         4                                Gypsies at Home   \n",
      "\n",
      "    region language        types             attributes  isOriginalTitle  \n",
      "521     \\N       \\N     original                     \\N                1  \n",
      "737     PL       \\N  imdbDisplay                     \\N                0  \n",
      "740     \\N       \\N     original                     \\N                1  \n",
      "660    XWW       en           \\N  literal English title                0  \n",
      "411     US       \\N           \\N  literal English title                0  \n"
     ]
    }
   ],
   "source": [
    "# Sample 5 random records from each\n",
    "print(\"🎬 Sample from Titles:\")\n",
    "print(titles.sample(5, random_state=42))\n",
    "\n",
    "print(\"\\n🎭 Sample from Cast:\")\n",
    "print(cast.sample(5, random_state=42))\n",
    "\n",
    "print(\"\\n📅 Sample from Release Dates:\")\n",
    "print(release.sample(5, random_state=42))"
   ]
  },
  {
   "cell_type": "code",
   "execution_count": 23,
   "id": "1f5c892d",
   "metadata": {},
   "outputs": [
    {
     "name": "stdout",
     "output_type": "stream",
     "text": [
      "Q2: 0\n"
     ]
    }
   ],
   "source": [
    "# Q2: Movies with title 'North by Northwest'\n",
    "north_count = titles[titles['primaryTitle'] == 'North by Northwest'].shape[0]\n",
    "print(\"Q2:\", north_count)"
   ]
  },
  {
   "cell_type": "code",
   "execution_count": 24,
   "id": "4d6606c3-abc9-4d1e-be9c-425dd7057a56",
   "metadata": {},
   "outputs": [
    {
     "name": "stdout",
     "output_type": "stream",
     "text": [
      "Q3: 13 1908 1955\n"
     ]
    }
   ],
   "source": [
    "# Q3: Hamlet versions\n",
    "hamlet = titles[titles['primaryTitle'] == 'Hamlet']\n",
    "hamlet_versions = hamlet.shape[0]\n",
    "hamlet_years = pd.to_numeric(hamlet['startYear'], errors='coerce')\n",
    "print(\"Q3:\", hamlet_versions, hamlet_years.min(), hamlet_years.max())"
   ]
  },
  {
   "cell_type": "code",
   "execution_count": 25,
   "id": "13a1fb7e",
   "metadata": {},
   "outputs": [
    {
     "name": "stdout",
     "output_type": "stream",
     "text": [
      "Q4:\n",
      "           primaryTitle  startYear\n",
      "2511   Treasure Island       1912\n",
      "9584   Treasure Island       1917\n",
      "11615  Treasure Island       1920\n",
      "25449  Treasure Island       1934\n",
      "28837  Treasure Island       1938\n",
      "42304  Treasure Island       1950\n"
     ]
    }
   ],
   "source": [
    "# Q4: Treasure Island films sorted by year\n",
    "treasure = titles[titles['primaryTitle'] == 'Treasure Island'].copy()\n",
    "treasure['startYear'] = pd.to_numeric(treasure['startYear'], errors='coerce')\n",
    "treasure_sorted = treasure.sort_values('startYear')[['primaryTitle', 'startYear']]\n",
    "print(\"Q4:\\n\", treasure_sorted)"
   ]
  },
  {
   "cell_type": "code",
   "execution_count": 27,
   "id": "59d359df-640e-4ea4-a112-16b9f4d5725f",
   "metadata": {},
   "outputs": [
    {
     "name": "stdout",
     "output_type": "stream",
     "text": [
      "Q5: 847 1 0\n"
     ]
    }
   ],
   "source": [
    "# Q5: Movies in 1950, 1980, 2000\n",
    "titles['startYear'] = pd.to_numeric(titles['startYear'], errors='coerce')\n",
    "movies = titles[titles['titleType'] == 'movie']\n",
    "movies_1950 = movies[movies['startYear'] == 1950].shape[0]\n",
    "movies_1980 = movies[movies['startYear'] == 1980].shape[0]\n",
    "movies_2000 = movies[movies['startYear'] == 2000].shape[0]\n",
    "print(\"Q5:\", movies_1950, movies_1980, movies_2000)"
   ]
  },
  {
   "cell_type": "code",
   "execution_count": 29,
   "id": "f48d2024-64b5-4736-9d28-ab314287be81",
   "metadata": {},
   "outputs": [
    {
     "name": "stdout",
     "output_type": "stream",
     "text": [
      "Q6: 11\n"
     ]
    }
   ],
   "source": [
    "# Q6: Cast size of Metropolis\n",
    "metropolis_ids = titles[titles['primaryTitle'] == 'Treasure Island']['tconst']\n",
    "metropolis_cast = cast[cast['tconst'].isin(metropolis_ids)]\n",
    "print(\"Q6:\", metropolis_cast.shape[0])"
   ]
  },
  {
   "cell_type": "code",
   "execution_count": 30,
   "id": "095f7cf9-a5ce-4887-a122-7d03211304f7",
   "metadata": {},
   "outputs": [
    {
     "name": "stdout",
     "output_type": "stream",
     "text": [
      "Q7: 0 4\n"
     ]
    }
   ],
   "source": [
    "# Q7: Actor roles in 1950s and 1990s\n",
    "cast = cast.merge(titles[['tconst', 'startYear']], on='tconst', how='left')\n",
    "cast['startYear'] = pd.to_numeric(cast['startYear'], errors='coerce')\n",
    "roles_1950s = cast[(cast['category'] == 'actor') & (cast['startYear'].between(1950, 1959))].shape[0]\n",
    "roles_1990s = cast[(cast['category'] == 'actor') & (cast['startYear'].between(1990, 1999))].shape[0]\n",
    "print(\"Q7:\", roles_1950s, roles_1990s)"
   ]
  },
  {
   "cell_type": "code",
   "execution_count": 33,
   "id": "1f00f8f2",
   "metadata": {},
   "outputs": [
    {
     "ename": "NameError",
     "evalue": "name 'plt' is not defined",
     "output_type": "error",
     "traceback": [
      "\u001b[1;31m---------------------------------------------------------------------------\u001b[0m",
      "\u001b[1;31mNameError\u001b[0m                                 Traceback (most recent call last)",
      "Cell \u001b[1;32mIn[33], line 5\u001b[0m\n\u001b[0;32m      3\u001b[0m roles_over_time \u001b[38;5;241m=\u001b[39m cast_filtered\u001b[38;5;241m.\u001b[39mgroupby(\u001b[38;5;124m'\u001b[39m\u001b[38;5;124mstartYear\u001b[39m\u001b[38;5;124m'\u001b[39m)\u001b[38;5;241m.\u001b[39msize()\n\u001b[0;32m      4\u001b[0m roles_over_time\u001b[38;5;241m.\u001b[39mplot(title\u001b[38;5;241m=\u001b[39m\u001b[38;5;124m'\u001b[39m\u001b[38;5;124mActor & Actress Roles Over Time\u001b[39m\u001b[38;5;124m'\u001b[39m, figsize\u001b[38;5;241m=\u001b[39m(\u001b[38;5;241m12\u001b[39m, \u001b[38;5;241m6\u001b[39m))\n\u001b[1;32m----> 5\u001b[0m plt\u001b[38;5;241m.\u001b[39mylabel(\u001b[38;5;124m\"\u001b[39m\u001b[38;5;124mRole Count\u001b[39m\u001b[38;5;124m\"\u001b[39m)\n\u001b[0;32m      6\u001b[0m plt\u001b[38;5;241m.\u001b[39mxlabel(\u001b[38;5;124m\"\u001b[39m\u001b[38;5;124mYear\u001b[39m\u001b[38;5;124m\"\u001b[39m)\n\u001b[0;32m      7\u001b[0m plt\u001b[38;5;241m.\u001b[39mgrid(\u001b[38;5;28;01mTrue\u001b[39;00m)\n",
      "\u001b[1;31mNameError\u001b[0m: name 'plt' is not defined"
     ]
    },
    {
     "data": {
      "image/png": "[encoded data removed]",
      "text/plain": [
       "<Figure size 1200x600 with 1 Axes>"
      ]
     },
     "metadata": {},
     "output_type": "display_data"
    }
   ],
   "source": [
    "# Q8: Roles over time (actor/actress)\n",
    "cast_filtered = cast[cast['category'].isin(['actor', 'actress'])]\n",
    "roles_over_time = cast_filtered.groupby('startYear').size()\n",
    "roles_over_time.plot(title='Actor & Actress Roles Over Time', figsize=(12, 6))\n",
    "plt.ylabel(\"Role Count\")\n",
    "plt.xlabel(\"Year\")\n",
    "plt.grid(True)\n",
    "plt.tight_layout()\n",
    "plt.show()"
   ]
  },
  {
   "cell_type": "code",
   "execution_count": 34,
   "id": "a6442053",
   "metadata": {},
   "outputs": [
    {
     "name": "stdout",
     "output_type": "stream",
     "text": [
      "Q9: 0\n"
     ]
    }
   ],
   "source": [
    "# Q9: Leading roles in 2000s\n",
    "cast['decade'] = (cast['startYear'] // 10) * 10\n",
    "leading_2000s = cast[(cast['decade'] == 2000) & (cast['ordering'] == 1)].shape[0]\n",
    "print(\"Q9:\", leading_2000s)"
   ]
  },
  {
   "cell_type": "code",
   "execution_count": 35,
   "id": "f4883e84",
   "metadata": {},
   "outputs": [
    {
     "name": "stdout",
     "output_type": "stream",
     "text": [
      "Q10: 0 0\n"
     ]
    }
   ],
   "source": [
    "# Q10: Roles with no ranking\n",
    "no_rank_2000s = cast[(cast['decade'] == 2000) & (cast['ordering'].isna())].shape[0]\n",
    "no_rank_1950s = cast[(cast['decade'] == 1950) & (cast['ordering'].isna())].shape[0]\n",
    "print(\"Q10:\", no_rank_2000s, no_rank_1950s)"
   ]
  },
  {
   "cell_type": "code",
   "execution_count": 36,
   "id": "91759f14-d7b5-4188-920d-418a0f3e245d",
   "metadata": {},
   "outputs": [
    {
     "ename": "NameError",
     "evalue": "name 'plt' is not defined",
     "output_type": "error",
     "traceback": [
      "\u001b[1;31m---------------------------------------------------------------------------\u001b[0m",
      "\u001b[1;31mNameError\u001b[0m                                 Traceback (most recent call last)",
      "Cell \u001b[1;32mIn[36], line 4\u001b[0m\n\u001b[0;32m      2\u001b[0m films_by_decade \u001b[38;5;241m=\u001b[39m movies\u001b[38;5;241m.\u001b[39mgroupby((movies[\u001b[38;5;124m'\u001b[39m\u001b[38;5;124mstartYear\u001b[39m\u001b[38;5;124m'\u001b[39m] \u001b[38;5;241m/\u001b[39m\u001b[38;5;241m/\u001b[39m \u001b[38;5;241m10\u001b[39m) \u001b[38;5;241m*\u001b[39m \u001b[38;5;241m10\u001b[39m)\u001b[38;5;241m.\u001b[39msize()\n\u001b[0;32m      3\u001b[0m films_by_decade\u001b[38;5;241m.\u001b[39mplot(kind\u001b[38;5;241m=\u001b[39m\u001b[38;5;124m'\u001b[39m\u001b[38;5;124mbar\u001b[39m\u001b[38;5;124m'\u001b[39m, title\u001b[38;5;241m=\u001b[39m\u001b[38;5;124m'\u001b[39m\u001b[38;5;124mNumber of Films per Decade\u001b[39m\u001b[38;5;124m'\u001b[39m, figsize\u001b[38;5;241m=\u001b[39m(\u001b[38;5;241m10\u001b[39m, \u001b[38;5;241m5\u001b[39m))\n\u001b[1;32m----> 4\u001b[0m plt\u001b[38;5;241m.\u001b[39mxlabel(\u001b[38;5;124m\"\u001b[39m\u001b[38;5;124mDecade\u001b[39m\u001b[38;5;124m\"\u001b[39m)\n\u001b[0;32m      5\u001b[0m plt\u001b[38;5;241m.\u001b[39mylabel(\u001b[38;5;124m\"\u001b[39m\u001b[38;5;124mFilm Count\u001b[39m\u001b[38;5;124m\"\u001b[39m)\n\u001b[0;32m      6\u001b[0m plt\u001b[38;5;241m.\u001b[39mgrid(\u001b[38;5;28;01mTrue\u001b[39;00m)\n",
      "\u001b[1;31mNameError\u001b[0m: name 'plt' is not defined"
     ]
    },
    {
     "data": {
      "image/png": "[encoded data removed]",
      "text/plain": [
       "<Figure size 1000x500 with 1 Axes>"
      ]
     },
     "metadata": {},
     "output_type": "display_data"
    }
   ],
   "source": [
    "# Q11: Films per decade\n",
    "films_by_decade = movies.groupby((movies['startYear'] // 10) * 10).size()\n",
    "films_by_decade.plot(kind='bar', title='Number of Films per Decade', figsize=(10, 5))\n",
    "plt.xlabel(\"Decade\")\n",
    "plt.ylabel(\"Film Count\")\n",
    "plt.grid(True)\n",
    "plt.tight_layout()\n",
    "plt.show()"
   ]
  },
  {
   "cell_type": "code",
   "execution_count": 39,
   "id": "e6ab71da-c3ac-4345-81c5-1ee82a73d685",
   "metadata": {},
   "outputs": [
    {
     "name": "stdout",
     "output_type": "stream",
     "text": [
      "Q13:\n",
      " characters\n",
      "\\N                             22082\n",
      "Undetermined Role                192\n",
      "Self                             157\n",
      "The Doctor                        90\n",
      "The Maid                          85\n",
      "The Sheriff                       80\n",
      "Undetermined Secondary Role       79\n",
      "Broncho Billy                     77\n",
      "Cop                               75\n",
      "Mabel                             69\n",
      "Name: count, dtype: int64\n"
     ]
    }
   ],
   "source": [
    "# Q13: Top 10 character names\n",
    "characters_cleaned = cast['characters'].dropna().astype(str).str.replace(r'[\\[\\]\"]', '', regex=True).str.split(',')\n",
    "top_characters = characters_cleaned.explode().str.strip().value_counts().head(10)\n",
    "print(\"Q13:\\n\", top_characters)"
   ]
  },
  {
   "cell_type": "code",
   "execution_count": 40,
   "id": "f04d957a-f1e7-433e-8395-33fe97031bbb",
   "metadata": {},
   "outputs": [
    {
     "name": "stdout",
     "output_type": "stream",
     "text": [
      "Q14: nm1902148\n"
     ]
    }
   ],
   "source": [
    "# Q14: Most films by actor in 1990s\n",
    "cast_1990s = cast[(cast['startYear'] >= 1990) & (cast['startYear'] < 2000)]\n",
    "top_actor_id = cast_1990s['nconst'].value_counts().idxmax()\n",
    "print(\"Q14:\", top_actor_id)"
   ]
  },
  {
   "cell_type": "code",
   "execution_count": 41,
   "id": "bd24e985-6182-4af0-8116-346edcfc9b62",
   "metadata": {},
   "outputs": [
    {
     "name": "stdout",
     "output_type": "stream",
     "text": [
      "Q15:\n",
      " Series([], Name: count, dtype: int64)\n"
     ]
    }
   ],
   "source": [
    "# Q15: Top 10 roles starting with 'Science'\n",
    "science_roles = characters_cleaned.explode().str.strip()\n",
    "science_roles = science_roles[science_roles.str.startswith(\"Science\")]\n",
    "print(\"Q15:\\n\", science_roles.value_counts().head(10))"
   ]
  },
  {
   "cell_type": "code",
   "execution_count": null,
   "id": "447d2d49-180c-44c3-9e9c-95bdb73d08d5",
   "metadata": {},
   "outputs": [],
   "source": []
  },
  {
   "cell_type": "code",
   "execution_count": 42,
   "id": "56e56261-cb9e-4b32-8ab6-0003e9d93e5c",
   "metadata": {},
   "outputs": [
    {
     "name": "stdout",
     "output_type": "stream",
     "text": [
      "Q16:\n",
      "               primaryTitle  startYear\n",
      "4009  The Hazards of Helen     1914.0\n"
     ]
    }
   ],
   "source": [
    "# Q16: Largest cast film\n",
    "cast_counts = cast.groupby('tconst').size()\n",
    "largest_cast_id = cast_counts.idxmax()\n",
    "largest_cast_film = titles[titles['tconst'] == largest_cast_id][['primaryTitle', 'startYear']]\n",
    "print(\"Q16:\\n\", largest_cast_film)"
   ]
  },
  {
   "cell_type": "code",
   "execution_count": 43,
   "id": "6832ddb7-c4ca-44df-aba0-233e8217c67d",
   "metadata": {},
   "outputs": [
    {
     "name": "stdout",
     "output_type": "stream",
     "text": [
      "Q17:\n",
      " count    6509.000000\n",
      "mean        7.681672\n",
      "std         4.415227\n",
      "min         1.000000\n",
      "25%         4.000000\n",
      "50%         7.000000\n",
      "75%        11.000000\n",
      "max        25.000000\n",
      "dtype: float64\n"
     ]
    }
   ],
   "source": [
    "# Q17: Cast size descriptive stats\n",
    "print(\"Q17:\\n\", cast_counts.describe())"
   ]
  },
  {
   "cell_type": "code",
   "execution_count": 44,
   "id": "947204c6-e966-4efe-a941-5838232374c0",
   "metadata": {},
   "outputs": [],
   "source": [
    "# Q18/19: Natalie Portman film counts\n",
    "natalie = cast[cast['primaryName'] == 'Natalie Portman'] if 'primaryName' in cast.columns else pd.DataFrame()\n",
    "if not natalie.empty:\n",
    "    natalie = natalie.merge(titles[['tconst', 'startYear']], on='tconst', how='left')\n",
    "    print(\"Q18:\\n\", natalie.groupby('startYear').size())\n",
    "    print(\"Q19:\\n\", natalie[natalie['ordering'].isin([1, 2])].groupby('startYear').size())"
   ]
  },
  {
   "cell_type": "code",
   "execution_count": 45,
   "id": "27fea6dc-9ab6-4e65-b73e-e5fbb32ecfd8",
   "metadata": {},
   "outputs": [
    {
     "name": "stderr",
     "output_type": "stream",
     "text": [
      "C:\\Users\\Divya Gunasekaran\\AppData\\Local\\Temp\\ipykernel_17556\\239724880.py:3: SettingWithCopyWarning: \n",
      "A value is trying to be set on a copy of a slice from a DataFrame.\n",
      "Try using .loc[row_indexer,col_indexer] = value instead\n",
      "\n",
      "See the caveats in the documentation: https://pandas.pydata.org/pandas-docs/stable/user_guide/indexing.html#returning-a-view-versus-a-copy\n",
      "  actor_roles['decade'] = (actor_roles['startYear'] // 10) * 10\n"
     ]
    },
    {
     "ename": "NameError",
     "evalue": "name 'plt' is not defined",
     "output_type": "error",
     "traceback": [
      "\u001b[1;31m---------------------------------------------------------------------------\u001b[0m",
      "\u001b[1;31mNameError\u001b[0m                                 Traceback (most recent call last)",
      "Cell \u001b[1;32mIn[45], line 6\u001b[0m\n\u001b[0;32m      4\u001b[0m roles_by_decade \u001b[38;5;241m=\u001b[39m actor_roles\u001b[38;5;241m.\u001b[39mgroupby(\u001b[38;5;124m'\u001b[39m\u001b[38;5;124mdecade\u001b[39m\u001b[38;5;124m'\u001b[39m)\u001b[38;5;241m.\u001b[39msize()\n\u001b[0;32m      5\u001b[0m roles_by_decade\u001b[38;5;241m.\u001b[39mplot(kind\u001b[38;5;241m=\u001b[39m\u001b[38;5;124m'\u001b[39m\u001b[38;5;124mbar\u001b[39m\u001b[38;5;124m'\u001b[39m, figsize\u001b[38;5;241m=\u001b[39m(\u001b[38;5;241m10\u001b[39m, \u001b[38;5;241m5\u001b[39m), title\u001b[38;5;241m=\u001b[39m\u001b[38;5;124m'\u001b[39m\u001b[38;5;124mRoles by Decade\u001b[39m\u001b[38;5;124m'\u001b[39m)\n\u001b[1;32m----> 6\u001b[0m plt\u001b[38;5;241m.\u001b[39mtight_layout()\n\u001b[0;32m      7\u001b[0m plt\u001b[38;5;241m.\u001b[39mshow()\n",
      "\u001b[1;31mNameError\u001b[0m: name 'plt' is not defined"
     ]
    },
    {
     "data": {
      "image/png": "[encoded data removed]",
      "text/plain": [
       "<Figure size 1000x500 with 1 Axes>"
      ]
     },
     "metadata": {},
     "output_type": "display_data"
    }
   ],
   "source": [
    "# Q20: Roles by decade\n",
    "actor_roles = cast[cast['category'].isin(['actor', 'actress'])]\n",
    "actor_roles['decade'] = (actor_roles['startYear'] // 10) * 10\n",
    "roles_by_decade = actor_roles.groupby('decade').size()\n",
    "roles_by_decade.plot(kind='bar', figsize=(10, 5), title='Roles by Decade')\n",
    "plt.tight_layout()\n",
    "plt.show()"
   ]
  },
  {
   "cell_type": "code",
   "execution_count": 47,
   "id": "b196f67f-8021-4eb3-af30-7f68bfea692d",
   "metadata": {},
   "outputs": [
    {
     "name": "stdout",
     "output_type": "stream",
     "text": [
      "Q23:\n",
      " Series([], Name: primaryTitle, dtype: object)\n"
     ]
    }
   ],
   "source": [
    "# Q23: Films Star Wars actors appeared in\n",
    "star_wars_titles = titles[titles['primaryTitle'].str.contains(\"Star Wars\", na=False)]\n",
    "sw_cast = cast[cast['tconst'].isin(star_wars_titles['tconst'])]\n",
    "sw_actor_ids = sw_cast['nconst'].unique()\n",
    "other_roles = cast[cast['nconst'].isin(sw_actor_ids)]\n",
    "other_films = other_roles.merge(titles[['tconst', 'primaryTitle']], on='tconst', how='left')\n",
    "other_films = other_films[~other_films['primaryTitle'].str.contains(\"Star Wars\", na=False)]\n",
    "print(\"Q23:\\n\", other_films['primaryTitle'].drop_duplicates().head(20))"
   ]
  },
  {
   "cell_type": "code",
   "execution_count": null,
   "id": "f8fd1e9d-fc16-4b81-8b8c-f8723198aca5",
   "metadata": {},
   "outputs": [],
   "source": []
  }
 ],
 "metadata": {
  "kernelspec": {
   "display_name": "Python 3 (ipykernel)",
   "language": "python",
   "name": "python3"
  },
  "language_info": {
   "codemirror_mode": {
    "name": "ipython",
    "version": 3
   },
   "file_extension": ".py",
   "mimetype": "text/x-python",
   "name": "python",
   "nbconvert_exporter": "python",
   "pygments_lexer": "ipython3",
   "version": "3.12.2"
  }
 },
 "nbformat": 4,
 "nbformat_minor": 5
}
