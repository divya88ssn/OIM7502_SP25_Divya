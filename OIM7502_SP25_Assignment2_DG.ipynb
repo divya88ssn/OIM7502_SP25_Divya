{
 "cells": [
  {
   "cell_type": "markdown",
   "id": "4a7f66be",
   "metadata": {},
   "source": [
    "# Assignment 2\n",
    "In this assignment you will be working with three data files from iMDB:\n",
    "\n",
    "cast.csv\n",
    "\n",
    "release_dates.csv\n",
    "\n",
    "titles.csv\n",
    "\n",
    "Using the appropriate file(s), answer the following questions\n",
    "\n",
    "Some questions can be completed with one-liners while others are a bit more involved\n",
    "\n",
    "Where appropriate, answers should also provide brief commentary\n",
    "\n",
    "Exclude data that doen't make senss, i.e. data from the future\n",
    "\n",
    "Once complete upload this notebook to your classwork Github repo and post the link on Canvas"
   ]
  },
  {
   "cell_type": "code",
   "execution_count": 1,
   "id": "6ba0bd16",
   "metadata": {},
   "outputs": [
    {
     "name": "stdout",
     "output_type": "stream",
     "text": [
      "Saved: data/title_sample.tsv\n",
      "Saved: data/cast_sample.tsv\n",
      "Saved: data/release_sample.tsv\n"
     ]
    }
   ],
   "source": [
    "import pandas as pd\n",
    "\n",
    "# Define input and output paths\n",
    "files = {\n",
    "    \"data/title.basics.tsv\": \"data/title_sample.tsv\",\n",
    "    \"data/title.principals.tsv\": \"data/cast_sample.tsv\",\n",
    "    \"data/title.akas.tsv\": \"data/release_sample.tsv\"\n",
    "}\n",
    "\n",
    "# Process each file\n",
    "for input_path, output_path in files.items():\n",
    "    df = pd.read_csv(input_path, sep=\"\\t\", nrows=500000) #read first 500,000 rows as pandas dataframe\n",
    "    df.to_csv(output_path, sep=\"\\t\", index=False)\n",
    "    print(f\"Saved: {output_path}\")\n"
   ]
  },
  {
   "cell_type": "code",
   "execution_count": 2,
   "id": "36ae8a3f",
   "metadata": {
    "scrolled": true
   },
   "outputs": [],
   "source": [
    "titles = pd.read_csv(\"data/title_sample.tsv\", sep=\"\\t\")\n",
    "cast = pd.read_csv(\"data/cast_sample.tsv\", sep=\"\\t\")\n",
    "release = pd.read_csv(\"data/release_sample.tsv\", sep=\"\\t\")\n"
   ]
  },
  {
   "cell_type": "code",
   "execution_count": 3,
   "id": "f7806c7a-d4b9-4094-a975-499bedbeef14",
   "metadata": {},
   "outputs": [
    {
     "name": "stdout",
     "output_type": "stream",
     "text": [
      "Titles info:\n",
      "<class 'pandas.core.frame.DataFrame'>\n",
      "RangeIndex: 500000 entries, 0 to 499999\n",
      "Data columns (total 9 columns):\n",
      " #   Column          Non-Null Count   Dtype \n",
      "---  ------          --------------   ----- \n",
      " 0   tconst          500000 non-null  object\n",
      " 1   titleType       500000 non-null  object\n",
      " 2   primaryTitle    500000 non-null  object\n",
      " 3   originalTitle   500000 non-null  object\n",
      " 4   isAdult         500000 non-null  int64 \n",
      " 5   startYear       500000 non-null  object\n",
      " 6   endYear         500000 non-null  object\n",
      " 7   runtimeMinutes  500000 non-null  object\n",
      " 8   genres          500000 non-null  object\n",
      "dtypes: int64(1), object(8)\n",
      "memory usage: 34.3+ MB\n",
      "\n",
      "Cast info:\n",
      "<class 'pandas.core.frame.DataFrame'>\n",
      "RangeIndex: 500000 entries, 0 to 499999\n",
      "Data columns (total 6 columns):\n",
      " #   Column      Non-Null Count   Dtype \n",
      "---  ------      --------------   ----- \n",
      " 0   tconst      500000 non-null  object\n",
      " 1   ordering    500000 non-null  int64 \n",
      " 2   nconst      500000 non-null  object\n",
      " 3   category    500000 non-null  object\n",
      " 4   job         500000 non-null  object\n",
      " 5   characters  500000 non-null  object\n",
      "dtypes: int64(1), object(5)\n",
      "memory usage: 22.9+ MB\n",
      "\n",
      "Release Dates info:\n",
      "<class 'pandas.core.frame.DataFrame'>\n",
      "RangeIndex: 500000 entries, 0 to 499999\n",
      "Data columns (total 8 columns):\n",
      " #   Column           Non-Null Count   Dtype \n",
      "---  ------           --------------   ----- \n",
      " 0   titleId          500000 non-null  object\n",
      " 1   ordering         500000 non-null  int64 \n",
      " 2   title            500000 non-null  object\n",
      " 3   region           500000 non-null  object\n",
      " 4   language         500000 non-null  object\n",
      " 5   types            500000 non-null  object\n",
      " 6   attributes       500000 non-null  object\n",
      " 7   isOriginalTitle  500000 non-null  int64 \n",
      "dtypes: int64(2), object(6)\n",
      "memory usage: 30.5+ MB\n"
     ]
    }
   ],
   "source": [
    "# Q1: High level assessment\n",
    "print(\"Titles info:\")\n",
    "titles.info()\n",
    "print(\"\\nCast info:\")\n",
    "cast.info()\n",
    "print(\"\\nRelease Dates info:\")\n",
    "release.info()"
   ]
  },
  {
   "cell_type": "code",
   "execution_count": 4,
   "id": "a3fe7eb0-5177-4940-88fc-be67002390f9",
   "metadata": {},
   "outputs": [
    {
     "name": "stdout",
     "output_type": "stream",
     "text": [
      "🎬 Sample from Titles:\n",
      "           tconst titleType          primaryTitle         originalTitle  \\\n",
      "104241  tt0106651     movie        The Last Dance             Daibyônin   \n",
      "199676  tt0208130     movie  Europa; il mio paese  Europa; il mio paese   \n",
      "140199  tt0144563     movie       Racquel Untamed       Racquel Untamed   \n",
      "132814  tt0136746     short     Canadian Carnival     Canadian Carnival   \n",
      "408697  tt0426228     short  The Sound of Silence  The Sound of Silence   \n",
      "\n",
      "        isAdult startYear endYear runtimeMinutes                    genres  \n",
      "104241        0      1993      \\N            116              Comedy,Drama  \n",
      "199676        0      1962      \\N             \\N               Documentary  \n",
      "140199        1      1990      \\N             74                     Adult  \n",
      "132814        0      1955      \\N              8  Documentary,Family,Short  \n",
      "408697        0      2004      \\N              6        Comedy,Drama,Short  \n",
      "\n",
      "🎭 Sample from Cast:\n",
      "           tconst  ordering     nconst  category job      characters\n",
      "104241  tt0011976        11  nm0154267  director  \\N              \\N\n",
      "199676  tt0020059         5  nm0824885     actor  \\N  [\"Jack Drake\"]\n",
      "140199  tt0015134         3  nm0456203   actress  \\N   [\"Rita Bonn\"]\n",
      "132814  tt0014515         4  nm0571770     actor  \\N    [\"Borolsky\"]\n",
      "408697  tt0034760         8  nm0390979     actor  \\N    [\"Hotelier\"]\n",
      "\n",
      "📅 Sample from Release Dates:\n",
      "          titleId  ordering                         title region language  \\\n",
      "104241  tt0022125        18                        Мариус   SUHH       ru   \n",
      "199676  tt0033836        35                       Pérfida     BR       \\N   \n",
      "140199  tt0026755         8  Mysteriet i Kineserkvarteret     DK       \\N   \n",
      "132814  tt0025833         1                     Stingaree     \\N       \\N   \n",
      "408697  tt0053884        15               Duell i flammor     SE       \\N   \n",
      "\n",
      "              types attributes  isOriginalTitle  \n",
      "104241  imdbDisplay         \\N                0  \n",
      "199676  imdbDisplay         \\N                0  \n",
      "140199  imdbDisplay         \\N                0  \n",
      "132814     original         \\N                1  \n",
      "408697  imdbDisplay         \\N                0  \n"
     ]
    }
   ],
   "source": [
    "# Sample 5 random records from each\n",
    "print(\"🎬 Sample from Titles:\")\n",
    "print(titles.sample(5, random_state=42))\n",
    "\n",
    "print(\"\\n🎭 Sample from Cast:\")\n",
    "print(cast.sample(5, random_state=42))\n",
    "\n",
    "print(\"\\n📅 Sample from Release Dates:\")\n",
    "print(release.sample(5, random_state=42))"
   ]
  },
  {
   "cell_type": "code",
   "execution_count": 5,
   "id": "1f5c892d",
   "metadata": {},
   "outputs": [
    {
     "name": "stdout",
     "output_type": "stream",
     "text": [
      "Q2: 1\n"
     ]
    }
   ],
   "source": [
    "# Q2: Movies with title 'North by Northwest'\n",
    "north_count = titles[titles['primaryTitle'] == 'North by Northwest'].shape[0]\n",
    "print(\"Q2:\", north_count)"
   ]
  },
  {
   "cell_type": "code",
   "execution_count": 6,
   "id": "4d6606c3-abc9-4d1e-be9c-425dd7057a56",
   "metadata": {},
   "outputs": [
    {
     "name": "stdout",
     "output_type": "stream",
     "text": [
      "Q3: 51 1908 2005\n"
     ]
    }
   ],
   "source": [
    "# Q3: Hamlet versions\n",
    "hamlet = titles[titles['primaryTitle'] == 'Hamlet']\n",
    "hamlet_versions = hamlet.shape[0]\n",
    "hamlet_years = pd.to_numeric(hamlet['startYear'], errors='coerce')\n",
    "print(\"Q3:\", hamlet_versions, hamlet_years.min(), hamlet_years.max())"
   ]
  },
  {
   "cell_type": "code",
   "execution_count": 7,
   "id": "13a1fb7e",
   "metadata": {},
   "outputs": [
    {
     "name": "stdout",
     "output_type": "stream",
     "text": [
      "Q4:\n",
      "            primaryTitle  startYear\n",
      "2511    Treasure Island       1912\n",
      "9584    Treasure Island       1917\n",
      "11615   Treasure Island       1920\n",
      "25449   Treasure Island       1934\n",
      "28837   Treasure Island       1938\n",
      "42304   Treasure Island       1950\n",
      "406284  Treasure Island       1951\n",
      "407030  Treasure Island       1957\n",
      "229327  Treasure Island       1959\n",
      "208113  Treasure Island       1960\n",
      "57554   Treasure Island       1964\n",
      "60096   Treasure Island       1966\n",
      "479360  Treasure Island       1968\n",
      "67825   Treasure Island       1972\n",
      "161632  Treasure Island       1972\n",
      "268317  Treasure Island       1973\n",
      "361389  Treasure Island       1977\n",
      "283665  Treasure Island       1978\n",
      "312610  Treasure Island       1982\n",
      "82601   Treasure Island       1982\n",
      "88196   Treasure Island       1986\n",
      "456866  Treasure Island       1987\n",
      "98536   Treasure Island       1990\n",
      "109290  Treasure Island       1993\n",
      "269404  Treasure Island       1997\n",
      "181257  Treasure Island       1997\n",
      "175343  Treasure Island       1999\n",
      "238004  Treasure Island       1999\n"
     ]
    }
   ],
   "source": [
    "# Q4: Treasure Island films sorted by year\n",
    "treasure = titles[titles['primaryTitle'] == 'Treasure Island'].copy()\n",
    "treasure['startYear'] = pd.to_numeric(treasure['startYear'], errors='coerce')\n",
    "treasure_sorted = treasure.sort_values('startYear')[['primaryTitle', 'startYear']]\n",
    "print(\"Q4:\\n\", treasure_sorted)"
   ]
  },
  {
   "cell_type": "code",
   "execution_count": 9,
   "id": "59d359df-640e-4ea4-a112-16b9f4d5725f",
   "metadata": {},
   "outputs": [
    {
     "name": "stdout",
     "output_type": "stream",
     "text": [
      "Q5: 1661 2843 3677\n"
     ]
    }
   ],
   "source": [
    "# Q5: Movies in 1950, 1980, 2000\n",
    "titles['startYear'] = pd.to_numeric(titles['startYear'], errors='coerce')\n",
    "movies = titles[titles['titleType'] == 'movie']\n",
    "movies_1950 = movies[movies['startYear'] == 1950].shape[0]\n",
    "movies_1980 = movies[movies['startYear'] == 1980].shape[0]\n",
    "movies_2000 = movies[movies['startYear'] == 2000].shape[0]\n",
    "print(\"Q5:\", movies_1950, movies_1980, movies_2000)"
   ]
  },
  {
   "cell_type": "code",
   "execution_count": 10,
   "id": "f48d2024-64b5-4736-9d28-ab314287be81",
   "metadata": {},
   "outputs": [
    {
     "name": "stdout",
     "output_type": "stream",
     "text": [
      "Q6: 28\n"
     ]
    }
   ],
   "source": [
    "# Q6: Cast size of Metropolis\n",
    "metropolis_ids = titles[titles['primaryTitle'] == 'Metropolis']['tconst']\n",
    "metropolis_cast = cast[cast['tconst'].isin(metropolis_ids)]\n",
    "print(\"Q6:\", metropolis_cast.shape[0])"
   ]
  },
  {
   "cell_type": "code",
   "execution_count": 53,
   "id": "095f7cf9-a5ce-4887-a122-7d03211304f7",
   "metadata": {},
   "outputs": [
    {
     "name": "stdout",
     "output_type": "stream",
     "text": [
      "Q7: 313 29\n"
     ]
    }
   ],
   "source": [
    "# Q7: Actor roles in 1950s and 1990s\n",
    "cast = cast.merge(titles[['tconst', 'startYear']], on='tconst', how='left')\n",
    "cast['startYear'] = pd.to_numeric(cast['startYear'], errors='coerce')\n",
    "roles_1950s = cast[(cast['category'] == 'actor') & (cast['startYear'].between(1950, 1959))].shape[0]\n",
    "roles_1990s = cast[(cast['category'] == 'actor') & (cast['startYear'].between(1990, 1999))].shape[0]\n",
    "print(\"Q7:\", roles_1950s, roles_1990s)"
   ]
  },
  {
   "cell_type": "code",
   "execution_count": 54,
   "id": "1f00f8f2",
   "metadata": {},
   "outputs": [
    {
     "ename": "NameError",
     "evalue": "name 'plt' is not defined",
     "output_type": "error",
     "traceback": [
      "\u001b[1;31m---------------------------------------------------------------------------\u001b[0m",
      "\u001b[1;31mNameError\u001b[0m                                 Traceback (most recent call last)",
      "Cell \u001b[1;32mIn[54], line 5\u001b[0m\n\u001b[0;32m      3\u001b[0m roles_over_time \u001b[38;5;241m=\u001b[39m cast_filtered\u001b[38;5;241m.\u001b[39mgroupby(\u001b[38;5;124m'\u001b[39m\u001b[38;5;124mstartYear\u001b[39m\u001b[38;5;124m'\u001b[39m)\u001b[38;5;241m.\u001b[39msize()\n\u001b[0;32m      4\u001b[0m roles_over_time\u001b[38;5;241m.\u001b[39mplot(title\u001b[38;5;241m=\u001b[39m\u001b[38;5;124m'\u001b[39m\u001b[38;5;124mActor & Actress Roles Over Time\u001b[39m\u001b[38;5;124m'\u001b[39m, figsize\u001b[38;5;241m=\u001b[39m(\u001b[38;5;241m12\u001b[39m, \u001b[38;5;241m6\u001b[39m))\n\u001b[1;32m----> 5\u001b[0m plt\u001b[38;5;241m.\u001b[39mylabel(\u001b[38;5;124m\"\u001b[39m\u001b[38;5;124mRole Count\u001b[39m\u001b[38;5;124m\"\u001b[39m)\n\u001b[0;32m      6\u001b[0m plt\u001b[38;5;241m.\u001b[39mxlabel(\u001b[38;5;124m\"\u001b[39m\u001b[38;5;124mYear\u001b[39m\u001b[38;5;124m\"\u001b[39m)\n\u001b[0;32m      7\u001b[0m plt\u001b[38;5;241m.\u001b[39mgrid(\u001b[38;5;28;01mTrue\u001b[39;00m)\n",
      "\u001b[1;31mNameError\u001b[0m: name 'plt' is not defined"
     ]
    },
    {
     "data": {
      "image/png": "[encoded data removed]",
      "text/plain": [
       "<Figure size 1200x600 with 1 Axes>"
      ]
     },
     "metadata": {},
     "output_type": "display_data"
    }
   ],
   "source": [
    "# Q8: Roles over time (actor/actress)\n",
    "cast_filtered = cast[cast['category'].isin(['actor', 'actress'])]\n",
    "roles_over_time = cast_filtered.groupby('startYear').size()\n",
    "roles_over_time.plot(title='Actor & Actress Roles Over Time', figsize=(12, 6))\n",
    "plt.ylabel(\"Role Count\")\n",
    "plt.xlabel(\"Year\")\n",
    "plt.grid(True)\n",
    "plt.tight_layout()\n",
    "plt.show()"
   ]
  },
  {
   "cell_type": "code",
   "execution_count": 55,
   "id": "a6442053",
   "metadata": {},
   "outputs": [
    {
     "name": "stdout",
     "output_type": "stream",
     "text": [
      "Q9: 1\n"
     ]
    }
   ],
   "source": [
    "# Q9: Leading roles in 2000s\n",
    "cast['decade'] = (cast['startYear'] // 10) * 10\n",
    "leading_2000s = cast[(cast['decade'] == 2000) & (cast['ordering'] == 1)].shape[0]\n",
    "print(\"Q9:\", leading_2000s)"
   ]
  },
  {
   "cell_type": "code",
   "execution_count": 56,
   "id": "f4883e84",
   "metadata": {},
   "outputs": [
    {
     "name": "stdout",
     "output_type": "stream",
     "text": [
      "Q10: 0 0\n"
     ]
    }
   ],
   "source": [
    "# Q10: Roles with no ranking\n",
    "no_rank_2000s = cast[(cast['decade'] == 2000) & (cast['ordering'].isna())].shape[0]\n",
    "no_rank_1950s = cast[(cast['decade'] == 1950) & (cast['ordering'].isna())].shape[0]\n",
    "print(\"Q10:\", no_rank_2000s, no_rank_1950s)"
   ]
  },
  {
   "cell_type": "code",
   "execution_count": 57,
   "id": "91759f14-d7b5-4188-920d-418a0f3e245d",
   "metadata": {},
   "outputs": [
    {
     "ename": "NameError",
     "evalue": "name 'plt' is not defined",
     "output_type": "error",
     "traceback": [
      "\u001b[1;31m---------------------------------------------------------------------------\u001b[0m",
      "\u001b[1;31mNameError\u001b[0m                                 Traceback (most recent call last)",
      "Cell \u001b[1;32mIn[57], line 4\u001b[0m\n\u001b[0;32m      2\u001b[0m films_by_decade \u001b[38;5;241m=\u001b[39m movies\u001b[38;5;241m.\u001b[39mgroupby((movies[\u001b[38;5;124m'\u001b[39m\u001b[38;5;124mstartYear\u001b[39m\u001b[38;5;124m'\u001b[39m] \u001b[38;5;241m/\u001b[39m\u001b[38;5;241m/\u001b[39m \u001b[38;5;241m10\u001b[39m) \u001b[38;5;241m*\u001b[39m \u001b[38;5;241m10\u001b[39m)\u001b[38;5;241m.\u001b[39msize()\n\u001b[0;32m      3\u001b[0m films_by_decade\u001b[38;5;241m.\u001b[39mplot(kind\u001b[38;5;241m=\u001b[39m\u001b[38;5;124m'\u001b[39m\u001b[38;5;124mbar\u001b[39m\u001b[38;5;124m'\u001b[39m, title\u001b[38;5;241m=\u001b[39m\u001b[38;5;124m'\u001b[39m\u001b[38;5;124mNumber of Films per Decade\u001b[39m\u001b[38;5;124m'\u001b[39m, figsize\u001b[38;5;241m=\u001b[39m(\u001b[38;5;241m10\u001b[39m, \u001b[38;5;241m5\u001b[39m))\n\u001b[1;32m----> 4\u001b[0m plt\u001b[38;5;241m.\u001b[39mxlabel(\u001b[38;5;124m\"\u001b[39m\u001b[38;5;124mDecade\u001b[39m\u001b[38;5;124m\"\u001b[39m)\n\u001b[0;32m      5\u001b[0m plt\u001b[38;5;241m.\u001b[39mylabel(\u001b[38;5;124m\"\u001b[39m\u001b[38;5;124mFilm Count\u001b[39m\u001b[38;5;124m\"\u001b[39m)\n\u001b[0;32m      6\u001b[0m plt\u001b[38;5;241m.\u001b[39mgrid(\u001b[38;5;28;01mTrue\u001b[39;00m)\n",
      "\u001b[1;31mNameError\u001b[0m: name 'plt' is not defined"
     ]
    },
    {
     "data": {
      "image/png": "[encoded data removed]",
      "text/plain": [
       "<Figure size 1000x500 with 1 Axes>"
      ]
     },
     "metadata": {},
     "output_type": "display_data"
    }
   ],
   "source": [
    "# Q11: Films per decade\n",
    "films_by_decade = movies.groupby((movies['startYear'] // 10) * 10).size()\n",
    "films_by_decade.plot(kind='bar', title='Number of Films per Decade', figsize=(10, 5))\n",
    "plt.xlabel(\"Decade\")\n",
    "plt.ylabel(\"Film Count\")\n",
    "plt.grid(True)\n",
    "plt.tight_layout()\n",
    "plt.show()"
   ]
  },
  {
   "cell_type": "code",
   "execution_count": 58,
   "id": "e6ab71da-c3ac-4345-81c5-1ee82a73d685",
   "metadata": {},
   "outputs": [
    {
     "name": "stdout",
     "output_type": "stream",
     "text": [
      "Q13:\n",
      " characters\n",
      "\\N                   219928\n",
      "Self                   1380\n",
      "Undetermined Role       650\n",
      "Narrator                621\n",
      "Sheriff                 429\n",
      "Henchman                326\n",
      "Minor Role              315\n",
      "Mary                    300\n",
      "Joe                     253\n",
      "Policeman               242\n",
      "Name: count, dtype: int64\n"
     ]
    }
   ],
   "source": [
    "# Q13: Top 10 character names\n",
    "characters_cleaned = cast['characters'].dropna().astype(str).str.replace(r'[\\[\\]\"]', '', regex=True).str.split(',')\n",
    "top_characters = characters_cleaned.explode().str.strip().value_counts().head(10)\n",
    "print(\"Q13:\\n\", top_characters)"
   ]
  },
  {
   "cell_type": "code",
   "execution_count": 59,
   "id": "f04d957a-f1e7-433e-8395-33fe97031bbb",
   "metadata": {},
   "outputs": [
    {
     "name": "stdout",
     "output_type": "stream",
     "text": [
      "Q14: nm0000248\n"
     ]
    }
   ],
   "source": [
    "# Q14: Most films by actor in 1990s\n",
    "cast_1990s = cast[(cast['startYear'] >= 1990) & (cast['startYear'] < 2000)]\n",
    "top_actor_id = cast_1990s['nconst'].value_counts().idxmax()\n",
    "print(\"Q14:\", top_actor_id)"
   ]
  },
  {
   "cell_type": "code",
   "execution_count": 60,
   "id": "bd24e985-6182-4af0-8116-346edcfc9b62",
   "metadata": {},
   "outputs": [
    {
     "name": "stdout",
     "output_type": "stream",
     "text": [
      "Q15:\n",
      " Series([], Name: count, dtype: int64)\n"
     ]
    }
   ],
   "source": [
    "# Q15: Top 10 roles starting with 'Science'\n",
    "science_roles = characters_cleaned.explode().str.strip()\n",
    "science_roles = science_roles[science_roles.str.startswith(\"Science\")]\n",
    "print(\"Q15:\\n\", science_roles.value_counts().head(10))"
   ]
  },
  {
   "cell_type": "code",
   "execution_count": null,
   "id": "447d2d49-180c-44c3-9e9c-95bdb73d08d5",
   "metadata": {},
   "outputs": [],
   "source": []
  },
  {
   "cell_type": "code",
   "execution_count": 61,
   "id": "56e56261-cb9e-4b32-8ab6-0003e9d93e5c",
   "metadata": {},
   "outputs": [
    {
     "name": "stdout",
     "output_type": "stream",
     "text": [
      "Q16:\n",
      "                           primaryTitle  startYear\n",
      "29062  Snow White and the Seven Dwarfs     1937.0\n"
     ]
    }
   ],
   "source": [
    "# Q16: Largest cast film\n",
    "cast_counts = cast.groupby('tconst').size()\n",
    "largest_cast_id = cast_counts.idxmax()\n",
    "largest_cast_film = titles[titles['tconst'] == largest_cast_id][['primaryTitle', 'startYear']]\n",
    "print(\"Q16:\\n\", largest_cast_film)"
   ]
  },
  {
   "cell_type": "code",
   "execution_count": 62,
   "id": "6832ddb7-c4ca-44df-aba0-233e8217c67d",
   "metadata": {},
   "outputs": [
    {
     "name": "stdout",
     "output_type": "stream",
     "text": [
      "Q17:\n",
      " count    39645.000000\n",
      "mean        12.611931\n",
      "std          5.302476\n",
      "min          1.000000\n",
      "25%          9.000000\n",
      "50%         14.000000\n",
      "75%         17.000000\n",
      "max         39.000000\n",
      "dtype: float64\n"
     ]
    }
   ],
   "source": [
    "# Q17: Cast size descriptive stats\n",
    "print(\"Q17:\\n\", cast_counts.describe())"
   ]
  },
  {
   "cell_type": "code",
   "execution_count": 63,
   "id": "947204c6-e966-4efe-a941-5838232374c0",
   "metadata": {},
   "outputs": [],
   "source": [
    "# Q18/19: Natalie Portman film counts\n",
    "natalie = cast[cast['primaryName'] == 'Natalie Portman'] if 'primaryName' in cast.columns else pd.DataFrame()\n",
    "if not natalie.empty:\n",
    "    natalie = natalie.merge(titles[['tconst', 'startYear']], on='tconst', how='left')\n",
    "    print(\"Q18:\\n\", natalie.groupby('startYear').size())\n",
    "    print(\"Q19:\\n\", natalie[natalie['ordering'].isin([1, 2])].groupby('startYear').size())"
   ]
  },
  {
   "cell_type": "code",
   "execution_count": 64,
   "id": "27fea6dc-9ab6-4e65-b73e-e5fbb32ecfd8",
   "metadata": {},
   "outputs": [
    {
     "name": "stderr",
     "output_type": "stream",
     "text": [
      "C:\\Users\\Divya Gunasekaran\\AppData\\Local\\Temp\\ipykernel_9200\\239724880.py:3: SettingWithCopyWarning: \n",
      "A value is trying to be set on a copy of a slice from a DataFrame.\n",
      "Try using .loc[row_indexer,col_indexer] = value instead\n",
      "\n",
      "See the caveats in the documentation: https://pandas.pydata.org/pandas-docs/stable/user_guide/indexing.html#returning-a-view-versus-a-copy\n",
      "  actor_roles['decade'] = (actor_roles['startYear'] // 10) * 10\n"
     ]
    },
    {
     "ename": "NameError",
     "evalue": "name 'plt' is not defined",
     "output_type": "error",
     "traceback": [
      "\u001b[1;31m---------------------------------------------------------------------------\u001b[0m",
      "\u001b[1;31mNameError\u001b[0m                                 Traceback (most recent call last)",
      "Cell \u001b[1;32mIn[64], line 6\u001b[0m\n\u001b[0;32m      4\u001b[0m roles_by_decade \u001b[38;5;241m=\u001b[39m actor_roles\u001b[38;5;241m.\u001b[39mgroupby(\u001b[38;5;124m'\u001b[39m\u001b[38;5;124mdecade\u001b[39m\u001b[38;5;124m'\u001b[39m)\u001b[38;5;241m.\u001b[39msize()\n\u001b[0;32m      5\u001b[0m roles_by_decade\u001b[38;5;241m.\u001b[39mplot(kind\u001b[38;5;241m=\u001b[39m\u001b[38;5;124m'\u001b[39m\u001b[38;5;124mbar\u001b[39m\u001b[38;5;124m'\u001b[39m, figsize\u001b[38;5;241m=\u001b[39m(\u001b[38;5;241m10\u001b[39m, \u001b[38;5;241m5\u001b[39m), title\u001b[38;5;241m=\u001b[39m\u001b[38;5;124m'\u001b[39m\u001b[38;5;124mRoles by Decade\u001b[39m\u001b[38;5;124m'\u001b[39m)\n\u001b[1;32m----> 6\u001b[0m plt\u001b[38;5;241m.\u001b[39mtight_layout()\n\u001b[0;32m      7\u001b[0m plt\u001b[38;5;241m.\u001b[39mshow()\n",
      "\u001b[1;31mNameError\u001b[0m: name 'plt' is not defined"
     ]
    },
    {
     "data": {
      "image/png": "[encoded data removed]",
      "text/plain": [
       "<Figure size 1000x500 with 1 Axes>"
      ]
     },
     "metadata": {},
     "output_type": "display_data"
    }
   ],
   "source": [
    "# Q20: Roles by decade\n",
    "actor_roles = cast[cast['category'].isin(['actor', 'actress'])]\n",
    "actor_roles['decade'] = (actor_roles['startYear'] // 10) * 10\n",
    "roles_by_decade = actor_roles.groupby('decade').size()\n",
    "roles_by_decade.plot(kind='bar', figsize=(10, 5), title='Roles by Decade')\n",
    "plt.tight_layout()\n",
    "plt.show()"
   ]
  },
  {
   "cell_type": "code",
   "execution_count": 65,
   "id": "b196f67f-8021-4eb3-af30-7f68bfea692d",
   "metadata": {},
   "outputs": [
    {
     "name": "stdout",
     "output_type": "stream",
     "text": [
      "Q23:\n",
      " Series([], Name: primaryTitle, dtype: object)\n"
     ]
    }
   ],
   "source": [
    "# Q23: Films Star Wars actors appeared in\n",
    "star_wars_titles = titles[titles['primaryTitle'].str.contains(\"Star Wars\", na=False)]\n",
    "sw_cast = cast[cast['tconst'].isin(star_wars_titles['tconst'])]\n",
    "sw_actor_ids = sw_cast['nconst'].unique()\n",
    "other_roles = cast[cast['nconst'].isin(sw_actor_ids)]\n",
    "other_films = other_roles.merge(titles[['tconst', 'primaryTitle']], on='tconst', how='left')\n",
    "other_films = other_films[~other_films['primaryTitle'].str.contains(\"Star Wars\", na=False)]\n",
    "print(\"Q23:\\n\", other_films['primaryTitle'].drop_duplicates().head(20))"
   ]
  },
  {
   "cell_type": "code",
   "execution_count": null,
   "id": "f8fd1e9d-fc16-4b81-8b8c-f8723198aca5",
   "metadata": {},
   "outputs": [],
   "source": []
  }
 ],
 "metadata": {
  "kernelspec": {
   "display_name": "Python 3 (ipykernel)",
   "language": "python",
   "name": "python3"
  },
  "language_info": {
   "codemirror_mode": {
    "name": "ipython",
    "version": 3
   },
   "file_extension": ".py",
   "mimetype": "text/x-python",
   "name": "python",
   "nbconvert_exporter": "python",
   "pygments_lexer": "ipython3",
   "version": "3.12.2"
  }
 },
 "nbformat": 4,
 "nbformat_minor": 5
}
