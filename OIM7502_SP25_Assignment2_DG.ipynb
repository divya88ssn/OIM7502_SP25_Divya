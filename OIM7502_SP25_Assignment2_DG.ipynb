{
 "cells": [
  {
   "cell_type": "markdown",
   "id": "4a7f66be",
   "metadata": {},
   "source": [
    "# Assignment 2\n",
    "In this assignment you will be working with three data files from iMDB:\n",
    "\n",
    "cast.csv\n",
    "\n",
    "release_dates.csv\n",
    "\n",
    "titles.csv\n",
    "\n",
    "Using the appropriate file(s), answer the following questions\n",
    "\n",
    "Some questions can be completed with one-liners while others are a bit more involved\n",
    "\n",
    "Where appropriate, answers should also provide brief commentary\n",
    "\n",
    "Exclude data that doen't make senss, i.e. data from the future\n",
    "\n",
    "Once complete upload this notebook to your classwork Github repo and post the link on Canvas"
   ]
  },
  {
   "cell_type": "code",
   "execution_count": 1,
   "id": "6ba0bd16",
   "metadata": {},
   "outputs": [
    {
     "name": "stdout",
     "output_type": "stream",
     "text": [
      "Saved: data/title_sample.tsv\n",
      "Saved: data/cast_sample.tsv\n",
      "Saved: data/release_sample.tsv\n"
     ]
    }
   ],
   "source": [
    "import pandas as pd\n",
    "\n",
    "# Define input and output paths\n",
    "files = {\n",
    "    \"data/title.basics.tsv\": \"data/title_sample.tsv\",\n",
    "    \"data/title.principals.tsv\": \"data/cast_sample.tsv\",\n",
    "    \"data/title.akas.tsv\": \"data/release_sample.tsv\"\n",
    "}\n",
    "\n",
    "# Process each file\n",
    "for input_path, output_path in files.items():\n",
    "    df = pd.read_csv(input_path, sep=\"\\t\", nrows=1000000) #read first 1,000,000 rows as pandas dataframe\n",
    "    df.to_csv(output_path, sep=\"\\t\", index=False)\n",
    "    print(f\"Saved: {output_path}\")\n"
   ]
  },
  {
   "cell_type": "code",
   "execution_count": 2,
   "id": "36ae8a3f",
   "metadata": {
    "scrolled": true
   },
   "outputs": [],
   "source": [
    "titles = pd.read_csv(\"data/title_sample.tsv\", sep=\"\\t\")\n",
    "cast = pd.read_csv(\"data/cast_sample.tsv\", sep=\"\\t\")\n",
    "release = pd.read_csv(\"data/release_sample.tsv\", sep=\"\\t\")\n"
   ]
  },
  {
   "cell_type": "code",
   "execution_count": 3,
   "id": "f7806c7a-d4b9-4094-a975-499bedbeef14",
   "metadata": {},
   "outputs": [
    {
     "name": "stdout",
     "output_type": "stream",
     "text": [
      "Titles info:\n",
      "<class 'pandas.core.frame.DataFrame'>\n",
      "RangeIndex: 1000000 entries, 0 to 999999\n",
      "Data columns (total 9 columns):\n",
      " #   Column          Non-Null Count    Dtype \n",
      "---  ------          --------------    ----- \n",
      " 0   tconst          1000000 non-null  object\n",
      " 1   titleType       1000000 non-null  object\n",
      " 2   primaryTitle    1000000 non-null  object\n",
      " 3   originalTitle   1000000 non-null  object\n",
      " 4   isAdult         1000000 non-null  int64 \n",
      " 5   startYear       1000000 non-null  object\n",
      " 6   endYear         1000000 non-null  object\n",
      " 7   runtimeMinutes  1000000 non-null  object\n",
      " 8   genres          1000000 non-null  object\n",
      "dtypes: int64(1), object(8)\n",
      "memory usage: 68.7+ MB\n",
      "\n",
      "Cast info:\n",
      "<class 'pandas.core.frame.DataFrame'>\n",
      "RangeIndex: 1000000 entries, 0 to 999999\n",
      "Data columns (total 6 columns):\n",
      " #   Column      Non-Null Count    Dtype \n",
      "---  ------      --------------    ----- \n",
      " 0   tconst      1000000 non-null  object\n",
      " 1   ordering    1000000 non-null  int64 \n",
      " 2   nconst      1000000 non-null  object\n",
      " 3   category    1000000 non-null  object\n",
      " 4   job         1000000 non-null  object\n",
      " 5   characters  1000000 non-null  object\n",
      "dtypes: int64(1), object(5)\n",
      "memory usage: 45.8+ MB\n",
      "\n",
      "Release Dates info:\n",
      "<class 'pandas.core.frame.DataFrame'>\n",
      "RangeIndex: 1000000 entries, 0 to 999999\n",
      "Data columns (total 8 columns):\n",
      " #   Column           Non-Null Count    Dtype \n",
      "---  ------           --------------    ----- \n",
      " 0   titleId          1000000 non-null  object\n",
      " 1   ordering         1000000 non-null  int64 \n",
      " 2   title            1000000 non-null  object\n",
      " 3   region           1000000 non-null  object\n",
      " 4   language         1000000 non-null  object\n",
      " 5   types            1000000 non-null  object\n",
      " 6   attributes       1000000 non-null  object\n",
      " 7   isOriginalTitle  1000000 non-null  int64 \n",
      "dtypes: int64(2), object(6)\n",
      "memory usage: 61.0+ MB\n"
     ]
    }
   ],
   "source": [
    "# Q1: High level assessment\n",
    "print(\"Titles info:\")\n",
    "titles.info()\n",
    "print(\"\\nCast info:\")\n",
    "cast.info()\n",
    "print(\"\\nRelease Dates info:\")\n",
    "release.info()"
   ]
  },
  {
   "cell_type": "code",
   "execution_count": 4,
   "id": "a3fe7eb0-5177-4940-88fc-be67002390f9",
   "metadata": {},
   "outputs": [
    {
     "name": "stdout",
     "output_type": "stream",
     "text": [
      "🎬 Sample from Titles:\n",
      "            tconst  titleType         primaryTitle        originalTitle  \\\n",
      "987231  tt10035702  tvEpisode       Never too Much       Never too Much   \n",
      "79954    tt0081725      movie  Viva la clase media  Viva la clase media   \n",
      "567130   tt0588799  tvEpisode        Episode #3.25        Episode #3.25   \n",
      "\n",
      "        isAdult startYear endYear runtimeMinutes            genres  \n",
      "987231        1      2016      \\N             \\N             Adult  \n",
      "79954         0      1980      \\N             96      Comedy,Drama  \n",
      "567130        0      2003      \\N             \\N  Comedy,Talk-Show  \n",
      "\n",
      "🎭 Sample from Cast:\n",
      "           tconst  ordering      nconst  category job  \\\n",
      "987231  tt0072083         4   nm0001975     actor  \\N   \n",
      "79954   tt0009682        11   nm0796657  director  \\N   \n",
      "567130  tt0045269         3  nm14308342     actor  \\N   \n",
      "\n",
      "                                    characters  \n",
      "987231  [\"Mr. Secretary (segment \\\"Epicac\\\")\"]  \n",
      "79954                                       \\N  \n",
      "567130                                [\"Dale\"]  \n",
      "\n",
      "📅 Sample from Release Dates:\n",
      "          titleId  ordering               title region language     types  \\\n",
      "987231  tt0107547         4              My War     \\N       \\N        \\N   \n",
      "79954   tt0018895         1  Flamenca la gitane     \\N       \\N  original   \n",
      "567130  tt0067589        11  Eso del matrimonio     ES       \\N        \\N   \n",
      "\n",
      "       attributes  isOriginalTitle  \n",
      "987231         \\N                0  \n",
      "79954          \\N                1  \n",
      "567130         \\N                0  \n"
     ]
    }
   ],
   "source": [
    "# Sample 5 random records from each\n",
    "print(\"🎬 Sample from Titles:\")\n",
    "print(titles.sample(3, random_state=42))\n",
    "\n",
    "print(\"\\n🎭 Sample from Cast:\")\n",
    "print(cast.sample(3, random_state=42))\n",
    "\n",
    "print(\"\\n📅 Sample from Release Dates:\")\n",
    "print(release.sample(3, random_state=42))"
   ]
  },
  {
   "cell_type": "code",
   "execution_count": 5,
   "id": "1f5c892d",
   "metadata": {},
   "outputs": [
    {
     "name": "stdout",
     "output_type": "stream",
     "text": [
      "Q2: 1\n"
     ]
    }
   ],
   "source": [
    "# Q2: Movies with title 'North by Northwest'\n",
    "north_count = titles[titles['primaryTitle'] == 'North by Northwest'].shape[0]\n",
    "print(\"Q2:\", north_count)"
   ]
  },
  {
   "cell_type": "code",
   "execution_count": 6,
   "id": "4d6606c3-abc9-4d1e-be9c-425dd7057a56",
   "metadata": {},
   "outputs": [
    {
     "name": "stdout",
     "output_type": "stream",
     "text": [
      "Q3: 61 1908 2007\n"
     ]
    }
   ],
   "source": [
    "# Q3: Hamlet versions\n",
    "hamlet = titles[titles['primaryTitle'] == 'Hamlet']\n",
    "hamlet_versions = hamlet.shape[0]\n",
    "hamlet_years = pd.to_numeric(hamlet['startYear'], errors='coerce')\n",
    "print(\"Q3:\", hamlet_versions, hamlet_years.min(), hamlet_years.max())"
   ]
  },
  {
   "cell_type": "code",
   "execution_count": 7,
   "id": "13a1fb7e",
   "metadata": {},
   "outputs": [
    {
     "name": "stdout",
     "output_type": "stream",
     "text": [
      "Q4:\n",
      "            primaryTitle  startYear\n",
      "2511    Treasure Island       1912\n",
      "9584    Treasure Island       1917\n",
      "11615   Treasure Island       1920\n",
      "25449   Treasure Island       1934\n",
      "28837   Treasure Island       1938\n",
      "42304   Treasure Island       1950\n",
      "406284  Treasure Island       1951\n",
      "689272  Treasure Island       1952\n",
      "407030  Treasure Island       1957\n",
      "229327  Treasure Island       1959\n",
      "208113  Treasure Island       1960\n",
      "57554   Treasure Island       1964\n",
      "60096   Treasure Island       1966\n",
      "479360  Treasure Island       1968\n",
      "67825   Treasure Island       1972\n",
      "161632  Treasure Island       1972\n",
      "268317  Treasure Island       1973\n",
      "361389  Treasure Island       1977\n",
      "283665  Treasure Island       1978\n",
      "312610  Treasure Island       1982\n",
      "82601   Treasure Island       1982\n",
      "88196   Treasure Island       1986\n",
      "745240  Treasure Island       1986\n",
      "456866  Treasure Island       1987\n",
      "762090  Treasure Island       1987\n",
      "98536   Treasure Island       1990\n",
      "109290  Treasure Island       1993\n",
      "732238  Treasure Island       1995\n",
      "269404  Treasure Island       1997\n",
      "181257  Treasure Island       1997\n",
      "238004  Treasure Island       1999\n",
      "175343  Treasure Island       1999\n",
      "661722  Treasure Island       2001\n",
      "864937  Treasure Island       2007\n"
     ]
    }
   ],
   "source": [
    "# Q4: Treasure Island films sorted by year\n",
    "treasure = titles[titles['primaryTitle'] == 'Treasure Island'].copy()\n",
    "treasure['startYear'] = pd.to_numeric(treasure['startYear'], errors='coerce')\n",
    "treasure_sorted = treasure.sort_values('startYear')[['primaryTitle', 'startYear']]\n",
    "print(\"Q4:\\n\", treasure_sorted)"
   ]
  },
  {
   "cell_type": "code",
   "execution_count": 8,
   "id": "59d359df-640e-4ea4-a112-16b9f4d5725f",
   "metadata": {},
   "outputs": [
    {
     "name": "stdout",
     "output_type": "stream",
     "text": [
      "Q5: 1709 2892 3763\n"
     ]
    }
   ],
   "source": [
    "# Q5: Movies in 1950, 1980, 2000\n",
    "titles['startYear'] = pd.to_numeric(titles['startYear'], errors='coerce')\n",
    "movies = titles[titles['titleType'] == 'movie']\n",
    "movies_1950 = movies[movies['startYear'] == 1950].shape[0]\n",
    "movies_1980 = movies[movies['startYear'] == 1980].shape[0]\n",
    "movies_2000 = movies[movies['startYear'] == 2000].shape[0]\n",
    "print(\"Q5:\", movies_1950, movies_1980, movies_2000)"
   ]
  },
  {
   "cell_type": "code",
   "execution_count": 9,
   "id": "f48d2024-64b5-4736-9d28-ab314287be81",
   "metadata": {},
   "outputs": [
    {
     "name": "stdout",
     "output_type": "stream",
     "text": [
      "Q6: 28\n"
     ]
    }
   ],
   "source": [
    "# Q6: Cast size of Metropolis\n",
    "metropolis_ids = titles[titles['primaryTitle'] == 'Metropolis']['tconst']\n",
    "metropolis_cast = cast[cast['tconst'].isin(metropolis_ids)]\n",
    "print(\"Q6:\", metropolis_cast.shape[0])"
   ]
  },
  {
   "cell_type": "code",
   "execution_count": 10,
   "id": "095f7cf9-a5ce-4887-a122-7d03211304f7",
   "metadata": {},
   "outputs": [
    {
     "name": "stdout",
     "output_type": "stream",
     "text": [
      "Q7: 70062 62\n"
     ]
    }
   ],
   "source": [
    "# Q7: Actor roles in 1950s and 1990s\n",
    "cast = cast.merge(titles[['tconst', 'startYear']], on='tconst', how='left')\n",
    "cast['startYear'] = pd.to_numeric(cast['startYear'], errors='coerce')\n",
    "roles_1950s = cast[(cast['category'] == 'actor') & (cast['startYear'].between(1950, 1959))].shape[0]\n",
    "roles_1990s = cast[(cast['category'] == 'actor') & (cast['startYear'].between(1990, 1999))].shape[0]\n",
    "print(\"Q7:\", roles_1950s, roles_1990s)"
   ]
  },
  {
   "cell_type": "code",
   "execution_count": 11,
   "id": "1f00f8f2",
   "metadata": {},
   "outputs": [
    {
     "ename": "NameError",
     "evalue": "name 'plt' is not defined",
     "output_type": "error",
     "traceback": [
      "\u001b[1;31m---------------------------------------------------------------------------\u001b[0m",
      "\u001b[1;31mNameError\u001b[0m                                 Traceback (most recent call last)",
      "Cell \u001b[1;32mIn[11], line 5\u001b[0m\n\u001b[0;32m      3\u001b[0m roles_over_time \u001b[38;5;241m=\u001b[39m cast_filtered\u001b[38;5;241m.\u001b[39mgroupby(\u001b[38;5;124m'\u001b[39m\u001b[38;5;124mstartYear\u001b[39m\u001b[38;5;124m'\u001b[39m)\u001b[38;5;241m.\u001b[39msize()\n\u001b[0;32m      4\u001b[0m roles_over_time\u001b[38;5;241m.\u001b[39mplot(title\u001b[38;5;241m=\u001b[39m\u001b[38;5;124m'\u001b[39m\u001b[38;5;124mActor & Actress Roles Over Time\u001b[39m\u001b[38;5;124m'\u001b[39m, figsize\u001b[38;5;241m=\u001b[39m(\u001b[38;5;241m12\u001b[39m, \u001b[38;5;241m6\u001b[39m))\n\u001b[1;32m----> 5\u001b[0m plt\u001b[38;5;241m.\u001b[39mylabel(\u001b[38;5;124m\"\u001b[39m\u001b[38;5;124mRole Count\u001b[39m\u001b[38;5;124m\"\u001b[39m)\n\u001b[0;32m      6\u001b[0m plt\u001b[38;5;241m.\u001b[39mxlabel(\u001b[38;5;124m\"\u001b[39m\u001b[38;5;124mYear\u001b[39m\u001b[38;5;124m\"\u001b[39m)\n\u001b[0;32m      7\u001b[0m plt\u001b[38;5;241m.\u001b[39mgrid(\u001b[38;5;28;01mTrue\u001b[39;00m)\n",
      "\u001b[1;31mNameError\u001b[0m: name 'plt' is not defined"
     ]
    },
    {
     "data": {
      "image/png": "[encoded data removed]",
      "text/plain": [
       "<Figure size 1200x600 with 1 Axes>"
      ]
     },
     "metadata": {},
     "output_type": "display_data"
    }
   ],
   "source": [
    "# Q8: Roles over time (actor/actress)\n",
    "cast_filtered = cast[cast['category'].isin(['actor', 'actress'])]\n",
    "roles_over_time = cast_filtered.groupby('startYear').size()\n",
    "roles_over_time.plot(title='Actor & Actress Roles Over Time', figsize=(12, 6))\n",
    "plt.ylabel(\"Role Count\")\n",
    "plt.xlabel(\"Year\")\n",
    "plt.grid(True)\n",
    "plt.tight_layout()\n",
    "plt.show()"
   ]
  },
  {
   "cell_type": "code",
   "execution_count": 12,
   "id": "a6442053",
   "metadata": {},
   "outputs": [
    {
     "name": "stdout",
     "output_type": "stream",
     "text": [
      "Q9: 2\n"
     ]
    }
   ],
   "source": [
    "# Q9: Leading roles in 2000s\n",
    "cast['decade'] = (cast['startYear'] // 10) * 10\n",
    "leading_2000s = cast[(cast['decade'] == 2000) & (cast['ordering'] == 1)].shape[0]\n",
    "print(\"Q9:\", leading_2000s)"
   ]
  },
  {
   "cell_type": "code",
   "execution_count": 15,
   "id": "f4883e84",
   "metadata": {},
   "outputs": [
    {
     "name": "stdout",
     "output_type": "stream",
     "text": [
      "Q10: 0 0\n"
     ]
    }
   ],
   "source": [
    "# Q10: Roles with no ranking\n",
    "no_rank_2000s = cast[(cast['decade'] == 2000) & (cast['ordering'].isna())].shape[0]\n",
    "no_rank_1950s = cast[(cast['decade'] == 1950) & (cast['ordering'].isna())].shape[0]\n",
    "print(\"Q10:\", no_rank_2000s, no_rank_1950s)"
   ]
  },
  {
   "cell_type": "code",
   "execution_count": 16,
   "id": "91759f14-d7b5-4188-920d-418a0f3e245d",
   "metadata": {},
   "outputs": [
    {
     "ename": "NameError",
     "evalue": "name 'plt' is not defined",
     "output_type": "error",
     "traceback": [
      "\u001b[1;31m---------------------------------------------------------------------------\u001b[0m",
      "\u001b[1;31mNameError\u001b[0m                                 Traceback (most recent call last)",
      "Cell \u001b[1;32mIn[16], line 4\u001b[0m\n\u001b[0;32m      2\u001b[0m films_by_decade \u001b[38;5;241m=\u001b[39m movies\u001b[38;5;241m.\u001b[39mgroupby((movies[\u001b[38;5;124m'\u001b[39m\u001b[38;5;124mstartYear\u001b[39m\u001b[38;5;124m'\u001b[39m] \u001b[38;5;241m/\u001b[39m\u001b[38;5;241m/\u001b[39m \u001b[38;5;241m10\u001b[39m) \u001b[38;5;241m*\u001b[39m \u001b[38;5;241m10\u001b[39m)\u001b[38;5;241m.\u001b[39msize()\n\u001b[0;32m      3\u001b[0m films_by_decade\u001b[38;5;241m.\u001b[39mplot(kind\u001b[38;5;241m=\u001b[39m\u001b[38;5;124m'\u001b[39m\u001b[38;5;124mbar\u001b[39m\u001b[38;5;124m'\u001b[39m, title\u001b[38;5;241m=\u001b[39m\u001b[38;5;124m'\u001b[39m\u001b[38;5;124mNumber of Films per Decade\u001b[39m\u001b[38;5;124m'\u001b[39m, figsize\u001b[38;5;241m=\u001b[39m(\u001b[38;5;241m10\u001b[39m, \u001b[38;5;241m5\u001b[39m))\n\u001b[1;32m----> 4\u001b[0m plt\u001b[38;5;241m.\u001b[39mxlabel(\u001b[38;5;124m\"\u001b[39m\u001b[38;5;124mDecade\u001b[39m\u001b[38;5;124m\"\u001b[39m)\n\u001b[0;32m      5\u001b[0m plt\u001b[38;5;241m.\u001b[39mylabel(\u001b[38;5;124m\"\u001b[39m\u001b[38;5;124mFilm Count\u001b[39m\u001b[38;5;124m\"\u001b[39m)\n\u001b[0;32m      6\u001b[0m plt\u001b[38;5;241m.\u001b[39mgrid(\u001b[38;5;28;01mTrue\u001b[39;00m)\n",
      "\u001b[1;31mNameError\u001b[0m: name 'plt' is not defined"
     ]
    },
    {
     "data": {
      "image/png": "[encoded data removed]",
      "text/plain": [
       "<Figure size 1000x500 with 1 Axes>"
      ]
     },
     "metadata": {},
     "output_type": "display_data"
    }
   ],
   "source": [
    "# Q11: Films per decade\n",
    "films_by_decade = movies.groupby((movies['startYear'] // 10) * 10).size()\n",
    "films_by_decade.plot(kind='bar', title='Number of Films per Decade', figsize=(10, 5))\n",
    "plt.xlabel(\"Decade\")\n",
    "plt.ylabel(\"Film Count\")\n",
    "plt.grid(True)\n",
    "plt.tight_layout()\n",
    "plt.show()"
   ]
  },
  {
   "cell_type": "code",
   "execution_count": 19,
   "id": "e6ab71da-c3ac-4345-81c5-1ee82a73d685",
   "metadata": {},
   "outputs": [
    {
     "name": "stdout",
     "output_type": "stream",
     "text": [
      "Q13:\n",
      " characters\n",
      "\\N                   450957\n",
      "Self                   6229\n",
      "Narrator               1767\n",
      "Self - Host             776\n",
      "Undetermined Role       664\n",
      "Sheriff                 661\n",
      "Doctor                  545\n",
      "Maria                   473\n",
      "Mary                    473\n",
      "Themselves              454\n",
      "Name: count, dtype: int64\n"
     ]
    }
   ],
   "source": [
    "# Q13: Top 10 character names\n",
    "characters_cleaned = cast['characters'].dropna().astype(str).str.replace(r'[\\[\\]\"]', '', regex=True).str.split(',')\n",
    "top_characters = characters_cleaned.explode().str.strip().value_counts().head(10)\n",
    "print(\"Q13:\\n\", top_characters)"
   ]
  },
  {
   "cell_type": "code",
   "execution_count": 20,
   "id": "f04d957a-f1e7-433e-8395-33fe97031bbb",
   "metadata": {},
   "outputs": [
    {
     "name": "stdout",
     "output_type": "stream",
     "text": [
      "Q14: nm0000248\n"
     ]
    }
   ],
   "source": [
    "# Q14: Most films by actor in 1990s\n",
    "cast_1990s = cast[(cast['startYear'] >= 1990) & (cast['startYear'] < 2000)]\n",
    "top_actor_id = cast_1990s['nconst'].value_counts().idxmax()\n",
    "print(\"Q14:\", top_actor_id)"
   ]
  },
  {
   "cell_type": "code",
   "execution_count": 22,
   "id": "bd24e985-6182-4af0-8116-346edcfc9b62",
   "metadata": {},
   "outputs": [
    {
     "name": "stdout",
     "output_type": "stream",
     "text": [
      "Q15:\n",
      " Series([], Name: count, dtype: int64)\n"
     ]
    }
   ],
   "source": [
    "# Q15: Top 10 roles starting with 'Science'\n",
    "science_roles = characters_cleaned.explode().str.strip()\n",
    "science_roles = science_roles[science_roles.str.startswith(\"Science\")]\n",
    "print(\"Q15:\\n\", science_roles.value_counts().head(10))"
   ]
  },
  {
   "cell_type": "code",
   "execution_count": 23,
   "id": "56e56261-cb9e-4b32-8ab6-0003e9d93e5c",
   "metadata": {},
   "outputs": [
    {
     "name": "stdout",
     "output_type": "stream",
     "text": [
      "Q16:\n",
      "                 primaryTitle  startYear\n",
      "43245  The Seven Deadly Sins     1952.0\n"
     ]
    }
   ],
   "source": [
    "# Q16: Largest cast film\n",
    "cast_counts = cast.groupby('tconst').size()\n",
    "largest_cast_id = cast_counts.idxmax()\n",
    "largest_cast_film = titles[titles['tconst'] == largest_cast_id][['primaryTitle', 'startYear']]\n",
    "print(\"Q16:\\n\", largest_cast_film)"
   ]
  },
  {
   "cell_type": "code",
   "execution_count": 24,
   "id": "6832ddb7-c4ca-44df-aba0-233e8217c67d",
   "metadata": {},
   "outputs": [
    {
     "name": "stdout",
     "output_type": "stream",
     "text": [
      "Q17:\n",
      " count    70830.000000\n",
      "mean        14.118311\n",
      "std          5.347270\n",
      "min          1.000000\n",
      "25%         11.000000\n",
      "50%         16.000000\n",
      "75%         18.000000\n",
      "max         44.000000\n",
      "dtype: float64\n"
     ]
    }
   ],
   "source": [
    "# Q17: Cast size descriptive stats\n",
    "print(\"Q17:\\n\", cast_counts.describe())"
   ]
  },
  {
   "cell_type": "code",
   "execution_count": 63,
   "id": "947204c6-e966-4efe-a941-5838232374c0",
   "metadata": {},
   "outputs": [],
   "source": [
    "# Q18/19: Natalie Portman film counts\n",
    "natalie = cast[cast['primaryName'] == 'Natalie Portman'] if 'primaryName' in cast.columns else pd.DataFrame()\n",
    "if not natalie.empty:\n",
    "    natalie = natalie.merge(titles[['tconst', 'startYear']], on='tconst', how='left')\n",
    "    print(\"Q18:\\n\", natalie.groupby('startYear').size())\n",
    "    print(\"Q19:\\n\", natalie[natalie['ordering'].isin([1, 2])].groupby('startYear').size())"
   ]
  },
  {
   "cell_type": "code",
   "execution_count": 25,
   "id": "27fea6dc-9ab6-4e65-b73e-e5fbb32ecfd8",
   "metadata": {},
   "outputs": [
    {
     "name": "stderr",
     "output_type": "stream",
     "text": [
      "C:\\Users\\Divya Gunasekaran\\AppData\\Local\\Temp\\ipykernel_7724\\239724880.py:3: SettingWithCopyWarning: \n",
      "A value is trying to be set on a copy of a slice from a DataFrame.\n",
      "Try using .loc[row_indexer,col_indexer] = value instead\n",
      "\n",
      "See the caveats in the documentation: https://pandas.pydata.org/pandas-docs/stable/user_guide/indexing.html#returning-a-view-versus-a-copy\n",
      "  actor_roles['decade'] = (actor_roles['startYear'] // 10) * 10\n"
     ]
    },
    {
     "ename": "NameError",
     "evalue": "name 'plt' is not defined",
     "output_type": "error",
     "traceback": [
      "\u001b[1;31m---------------------------------------------------------------------------\u001b[0m",
      "\u001b[1;31mNameError\u001b[0m                                 Traceback (most recent call last)",
      "Cell \u001b[1;32mIn[25], line 6\u001b[0m\n\u001b[0;32m      4\u001b[0m roles_by_decade \u001b[38;5;241m=\u001b[39m actor_roles\u001b[38;5;241m.\u001b[39mgroupby(\u001b[38;5;124m'\u001b[39m\u001b[38;5;124mdecade\u001b[39m\u001b[38;5;124m'\u001b[39m)\u001b[38;5;241m.\u001b[39msize()\n\u001b[0;32m      5\u001b[0m roles_by_decade\u001b[38;5;241m.\u001b[39mplot(kind\u001b[38;5;241m=\u001b[39m\u001b[38;5;124m'\u001b[39m\u001b[38;5;124mbar\u001b[39m\u001b[38;5;124m'\u001b[39m, figsize\u001b[38;5;241m=\u001b[39m(\u001b[38;5;241m10\u001b[39m, \u001b[38;5;241m5\u001b[39m), title\u001b[38;5;241m=\u001b[39m\u001b[38;5;124m'\u001b[39m\u001b[38;5;124mRoles by Decade\u001b[39m\u001b[38;5;124m'\u001b[39m)\n\u001b[1;32m----> 6\u001b[0m plt\u001b[38;5;241m.\u001b[39mtight_layout()\n\u001b[0;32m      7\u001b[0m plt\u001b[38;5;241m.\u001b[39mshow()\n",
      "\u001b[1;31mNameError\u001b[0m: name 'plt' is not defined"
     ]
    },
    {
     "data": {
      "image/png": "[encoded data removed]",
      "text/plain": [
       "<Figure size 1000x500 with 1 Axes>"
      ]
     },
     "metadata": {},
     "output_type": "display_data"
    }
   ],
   "source": [
    "# Q20: Roles by decade\n",
    "actor_roles = cast[cast['category'].isin(['actor', 'actress'])]\n",
    "actor_roles['decade'] = (actor_roles['startYear'] // 10) * 10\n",
    "roles_by_decade = actor_roles.groupby('decade').size()\n",
    "roles_by_decade.plot(kind='bar', figsize=(10, 5), title='Roles by Decade')\n",
    "plt.tight_layout()\n",
    "plt.show()"
   ]
  },
  {
   "cell_type": "code",
   "execution_count": 26,
   "id": "b196f67f-8021-4eb3-af30-7f68bfea692d",
   "metadata": {},
   "outputs": [
    {
     "name": "stdout",
     "output_type": "stream",
     "text": [
      "Q23:\n",
      " Series([], Name: primaryTitle, dtype: object)\n"
     ]
    }
   ],
   "source": [
    "# Q23: Films Star Wars actors appeared in\n",
    "star_wars_titles = titles[titles['primaryTitle'].str.contains(\"Star Wars\", na=False)]\n",
    "sw_cast = cast[cast['tconst'].isin(star_wars_titles['tconst'])]\n",
    "sw_actor_ids = sw_cast['nconst'].unique()\n",
    "other_roles = cast[cast['nconst'].isin(sw_actor_ids)]\n",
    "other_films = other_roles.merge(titles[['tconst', 'primaryTitle']], on='tconst', how='left')\n",
    "other_films = other_films[~other_films['primaryTitle'].str.contains(\"Star Wars\", na=False)]\n",
    "print(\"Q23:\\n\", other_films['primaryTitle'].drop_duplicates().head(20))"
   ]
  },
  {
   "cell_type": "code",
   "execution_count": null,
   "id": "f8fd1e9d-fc16-4b81-8b8c-f8723198aca5",
   "metadata": {},
   "outputs": [],
   "source": []
  }
 ],
 "metadata": {
  "kernelspec": {
   "display_name": "Python 3 (ipykernel)",
   "language": "python",
   "name": "python3"
  },
  "language_info": {
   "codemirror_mode": {
    "name": "ipython",
    "version": 3
   },
   "file_extension": ".py",
   "mimetype": "text/x-python",
   "name": "python",
   "nbconvert_exporter": "python",
   "pygments_lexer": "ipython3",
   "version": "3.12.2"
  }
 },
 "nbformat": 4,
 "nbformat_minor": 5
}
