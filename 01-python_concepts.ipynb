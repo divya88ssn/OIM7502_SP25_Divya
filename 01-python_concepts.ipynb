{
 "cells": [
  {
   "cell_type": "markdown",
   "id": "9383bafa",
   "metadata": {},
   "source": [
    "### Python Programming Concepts"
   ]
  },
  {
   "cell_type": "markdown",
   "id": "17df7d6e",
   "metadata": {},
   "source": [
    "#### 1. Create a variable to store the value 500 for sales"
   ]
  },
  {
   "cell_type": "code",
   "execution_count": 3,
   "id": "a5f43c2f",
   "metadata": {},
   "outputs": [
    {
     "name": "stdout",
     "output_type": "stream",
     "text": [
      "500\n"
     ]
    }
   ],
   "source": [
    "sales = 500\n",
    "print (sales)"
   ]
  },
  {
   "cell_type": "markdown",
   "id": "6dc8b9ea",
   "metadata": {},
   "source": [
    "#### 2. Create a variable to store several values:  \n",
    "* sales: 500, 475, 625\n",
    "* integers 1 - 9 "
   ]
  },
  {
   "cell_type": "code",
   "execution_count": 6,
   "id": "902fe3bd",
   "metadata": {},
   "outputs": [
    {
     "name": "stdout",
     "output_type": "stream",
     "text": [
      "[500, 475, 625]\n"
     ]
    }
   ],
   "source": [
    "sales_list = [500, 475, 625]\n",
    "\n",
    "print(sales_list)"
   ]
  },
  {
   "cell_type": "code",
   "execution_count": 7,
   "id": "bbc89976-1dc6-4515-8b0e-0e305b948f87",
   "metadata": {},
   "outputs": [
    {
     "name": "stdout",
     "output_type": "stream",
     "text": [
      "[1, 2, 3, 4, 5, 6, 7, 8, 9]\n"
     ]
    }
   ],
   "source": [
    "integer_list = list()\n",
    "for i in range(1, 10):\n",
    "    integer_list.append(i)\n",
    "\n",
    "print(integer_list)"
   ]
  },
  {
   "cell_type": "markdown",
   "id": "62e55953",
   "metadata": {},
   "source": [
    "#### 3. Create a variable to store the names and email addresses for a number of customers\n",
    "* John, john@some.com; Ann, ann@some.com"
   ]
  },
  {
   "cell_type": "code",
   "execution_count": 9,
   "id": "03f2b161",
   "metadata": {},
   "outputs": [
    {
     "name": "stdout",
     "output_type": "stream",
     "text": [
      "[{'name': 'John', 'email': 'john@some.com'}, {'name': 'Ann', 'email': 'ann@some.com'}]\n"
     ]
    }
   ],
   "source": [
    "person1 = dict(name=\"John\", email=\"john@some.com\")\n",
    "person2 = dict(name=\"Ann\", email=\"ann@some.com\")\n",
    "customers_list = [person1, person2]\n",
    "print(customers_list)"
   ]
  },
  {
   "cell_type": "markdown",
   "id": "d6b1e8c6",
   "metadata": {},
   "source": [
    "#### 4. Use Python to generate a random value based on each of following:\n",
    "1. between 0 and 1\n",
    "2. the standard normal distribution (rounded to two decimal places)\n",
    "3. a value between 1 and 10\n",
    "4. either H or T"
   ]
  },
  {
   "cell_type": "code",
   "execution_count": 13,
   "id": "f004d7b5",
   "metadata": {},
   "outputs": [
    {
     "name": "stdout",
     "output_type": "stream",
     "text": [
      "Random value between 0 and 1: 0.888073504280522\n"
     ]
    }
   ],
   "source": [
    "import random\n",
    "random_between_0_and_1 = random.random()\n",
    "print(\"Random value between 0 and 1:\", random_between_0_and_1)"
   ]
  },
  {
   "cell_type": "code",
   "execution_count": 14,
   "id": "a8efc6fc",
   "metadata": {},
   "outputs": [
    {
     "name": "stdout",
     "output_type": "stream",
     "text": [
      "Random value from standard normal distribution (rounded): -0.54\n"
     ]
    }
   ],
   "source": [
    "random_standard_normal = round(random.gauss(0, 1), 2)\n",
    "print(\"Random value from standard normal distribution (rounded):\", random_standard_normal)"
   ]
  },
  {
   "cell_type": "code",
   "execution_count": 15,
   "id": "f20b6134-2d52-4465-a867-e7b69e9a9d94",
   "metadata": {},
   "outputs": [
    {
     "name": "stdout",
     "output_type": "stream",
     "text": [
      "Random value between 1 and 10: 3\n"
     ]
    }
   ],
   "source": [
    "random_between_1_and_10 = random.randint(1, 10)\n",
    "print(\"Random value between 1 and 10:\", random_between_1_and_10)"
   ]
  },
  {
   "cell_type": "code",
   "execution_count": 16,
   "id": "3a150c3e",
   "metadata": {},
   "outputs": [
    {
     "name": "stdout",
     "output_type": "stream",
     "text": [
      "Random choice (H or T): T\n"
     ]
    }
   ],
   "source": [
    "random_heads_or_tails = random.choice(['H', 'T'])\n",
    "print(\"Random choice (H or T):\", random_heads_or_tails)"
   ]
  },
  {
   "cell_type": "markdown",
   "id": "7eddf06a",
   "metadata": {},
   "source": [
    "#### 5. Use Python to determine your current working directory"
   ]
  },
  {
   "cell_type": "code",
   "execution_count": 18,
   "id": "d8f79474",
   "metadata": {},
   "outputs": [
    {
     "name": "stdout",
     "output_type": "stream",
     "text": [
      "Current Working Directory: C:\\Users\\Divya Gunasekaran\\PycharmProjects\\OIM7502_SP25_Divya\n"
     ]
    }
   ],
   "source": [
    "import os\n",
    "current_directory = os.getcwd()\n",
    "print(\"Current Working Directory:\", current_directory)"
   ]
  },
  {
   "cell_type": "markdown",
   "id": "fc43ec50",
   "metadata": {},
   "source": [
    "#### 6. Use Python to determine how many days until New Year's Day"
   ]
  },
  {
   "cell_type": "code",
   "execution_count": 19,
   "id": "13f630fe",
   "metadata": {},
   "outputs": [
    {
     "name": "stdout",
     "output_type": "stream",
     "text": [
      "Days until New Year's Day: 339\n"
     ]
    }
   ],
   "source": [
    "from datetime import datetime\n",
    "today = datetime.today()\n",
    "new_year = datetime(today.year + 1, 1, 1)\n",
    "days_until_new_year = (new_year - today).days\n",
    "print(\"Days until New Year's Day:\", days_until_new_year)"
   ]
  },
  {
   "cell_type": "markdown",
   "id": "2ba4ea92",
   "metadata": {},
   "source": [
    "#### 7. Write a short program that displays the future value of 1,000 earning 5%  at the end of each year for the next 5 years"
   ]
  },
  {
   "cell_type": "code",
   "execution_count": 20,
   "id": "6fef4a8c",
   "metadata": {},
   "outputs": [
    {
     "name": "stdout",
     "output_type": "stream",
     "text": [
      "Year\tFuture Value\n",
      "1\t$1050.00\n",
      "2\t$1102.50\n",
      "3\t$1157.63\n",
      "4\t$1215.51\n",
      "5\t$1276.28\n"
     ]
    }
   ],
   "source": [
    "# Initial investment amount\n",
    "principal = 1000\n",
    "# Annual interest rate (5% as a decimal)\n",
    "rate = 0.05\n",
    "# Number of years\n",
    "years = 5\n",
    "\n",
    "# Calculate and display the future value for each year\n",
    "print(\"Year\\tFuture Value\")\n",
    "for year in range(1, years + 1):\n",
    "    future_value = principal * (1 + rate) ** year\n",
    "    print(f\"{year}\\t${future_value:.2f}\")\n"
   ]
  },
  {
   "cell_type": "markdown",
   "id": "150201c8",
   "metadata": {},
   "source": [
    "#### 8. Write a short program that prompts a user to enter a stock symbol and press enter. Add each symbol entered to a variable. The program should run until the user presses the enter key without entering anything (empty string) "
   ]
  },
  {
   "cell_type": "code",
   "execution_count": 21,
   "id": "931a346f",
   "metadata": {},
   "outputs": [
    {
     "name": "stdin",
     "output_type": "stream",
     "text": [
      "Enter a stock symbol (press Enter to stop):  AAPL\n",
      "Enter a stock symbol (press Enter to stop):  TSLA\n",
      "Enter a stock symbol (press Enter to stop):  GOOG\n",
      "Enter a stock symbol (press Enter to stop):  \n"
     ]
    },
    {
     "name": "stdout",
     "output_type": "stream",
     "text": [
      "\n",
      "Stock symbols entered:\n",
      "['AAPL', 'TSLA', 'GOOG']\n"
     ]
    }
   ],
   "source": [
    "# Initialize an empty list to store stock symbols\n",
    "stock_symbols = []\n",
    "\n",
    "# Continuously prompt the user for stock symbols\n",
    "while True:\n",
    "    symbol = input(\"Enter a stock symbol (press Enter to stop): \").strip()\n",
    "    if symbol == \"\":\n",
    "        break  # Exit the loop when the user presses Enter without entering anything\n",
    "    stock_symbols.append(symbol)\n",
    "\n",
    "# Display the collected stock symbols\n",
    "print(\"\\nStock symbols entered:\")\n",
    "print(stock_symbols)\n"
   ]
  },
  {
   "cell_type": "markdown",
   "id": "fc2a7592",
   "metadata": {},
   "source": [
    "#### 9. Write the code necessary to calculate the sum of the square differences of a group of values : \n",
    "58, 32, 37, 41, 36, 36, 54, 37, 25, 53\n",
    "##### $\\Sigma $(${x}$ - $\\bar{x}$)$^2$"
   ]
  },
  {
   "cell_type": "code",
   "execution_count": 22,
   "id": "13d9a6c5",
   "metadata": {},
   "outputs": [
    {
     "name": "stdout",
     "output_type": "stream",
     "text": [
      "Sum of square differences: 1020.9\n"
     ]
    }
   ],
   "source": [
    "# Given values\n",
    "values = [58, 32, 37, 41, 36, 36, 54, 37, 25, 53]\n",
    "\n",
    "# Calculate the mean\n",
    "mean_value = sum(values) / len(values)\n",
    "\n",
    "# Calculate the sum of squared differences from the mean\n",
    "sum_of_square_differences = sum((x - mean_value) ** 2 for x in values)\n",
    "\n",
    "# Print the result\n",
    "print(\"Sum of square differences:\", sum_of_square_differences)\n"
   ]
  },
  {
   "cell_type": "markdown",
   "id": "6d6f2e64",
   "metadata": {},
   "source": [
    "#### 10. Opening, reading and writing files"
   ]
  },
  {
   "cell_type": "code",
   "execution_count": null,
   "id": "f7fa569d",
   "metadata": {},
   "outputs": [],
   "source": []
  },
  {
   "cell_type": "markdown",
   "id": "eec548d6",
   "metadata": {},
   "source": [
    "#### 11. Create a function the will simulate rolling two die and return the value of each and and the sum "
   ]
  },
  {
   "cell_type": "code",
   "execution_count": 23,
   "id": "bb115cdc",
   "metadata": {},
   "outputs": [
    {
     "name": "stdout",
     "output_type": "stream",
     "text": [
      "Die 1: 6, Die 2: 1, Sum: 7\n"
     ]
    }
   ],
   "source": [
    "import random\n",
    "\n",
    "def roll_two_dice():\n",
    "    # Roll two dice (values between 1 and 6)\n",
    "    die1 = random.randint(1, 6)\n",
    "    die2 = random.randint(1, 6)\n",
    "    \n",
    "    # Calculate the sum of the dice\n",
    "    total = die1 + die2\n",
    "    \n",
    "    return die1, die2, total\n",
    "\n",
    "# Example usage\n",
    "die1, die2, total = roll_two_dice()\n",
    "print(f\"Die 1: {die1}, Die 2: {die2}, Sum: {total}\")\n"
   ]
  },
  {
   "cell_type": "markdown",
   "id": "21556d7f",
   "metadata": {},
   "source": [
    "#### 12. Write the code needed to evaluate whether a value in a group of values is negative or postive and prints an approriate message, i.e. postive, negative \n",
    "-1.59, 2.36, 1.69, 1.13, -0.91, 1.48, -0.34, 1.31, -0.74, 0.2"
   ]
  },
  {
   "cell_type": "code",
   "execution_count": 24,
   "id": "d6c38ecb",
   "metadata": {},
   "outputs": [
    {
     "name": "stdout",
     "output_type": "stream",
     "text": [
      "-1.59 is negative.\n",
      "2.36 is positive.\n",
      "1.69 is positive.\n",
      "1.13 is positive.\n",
      "-0.91 is negative.\n",
      "1.48 is positive.\n",
      "-0.34 is negative.\n",
      "1.31 is positive.\n",
      "-0.74 is negative.\n",
      "0.2 is positive.\n"
     ]
    }
   ],
   "source": [
    "# Given values\n",
    "values = [-1.59, 2.36, 1.69, 1.13, -0.91, 1.48, -0.34, 1.31, -0.74, 0.2]\n",
    "\n",
    "# Check if each value is positive or negative\n",
    "for value in values:\n",
    "    if value > 0:\n",
    "        print(f\"{value} is positive.\")\n",
    "    elif value < 0:\n",
    "        print(f\"{value} is negative.\")\n",
    "    else:\n",
    "        print(f\"{value} is zero.\")\n"
   ]
  },
  {
   "cell_type": "markdown",
   "id": "8cafe65c",
   "metadata": {},
   "source": [
    "#### 14.  Complete the following:\n",
    "1. Write a program that generates 500 random integers from 1 to n, for example, the first integer will be 1 the second will be 1 or 2, the fifth between 1 and 5, and so on.\n",
    "2. The program should write each integer to a file \n",
    "3. Once all integers are written close the file\n",
    "\n",
    "##### Part 2\n",
    "1. Open and read the file into a list\n",
    "2. Create a line plot of the data"
   ]
  },
  {
   "cell_type": "code",
   "execution_count": 25,
   "id": "60a910bb",
   "metadata": {},
   "outputs": [
    {
     "name": "stdout",
     "output_type": "stream",
     "text": [
      "500 random numbers written to random_numbers.txt.\n"
     ]
    }
   ],
   "source": [
    "import random\n",
    "\n",
    "# Function to generate 500 random integers and write to a file\n",
    "def generate_random_numbers(file_name):\n",
    "    with open(file_name, 'w') as file:\n",
    "        for i in range(1, 501):\n",
    "            random_num = random.randint(1, i)  # Generate a random number between 1 and i\n",
    "            file.write(f\"{random_num}\\n\")  # Write the number to the file\n",
    "\n",
    "# Call the function to generate and write numbers\n",
    "file_name = \"random_numbers.txt\"\n",
    "generate_random_numbers(file_name)\n",
    "\n",
    "print(f\"500 random numbers written to {file_name}.\")\n"
   ]
  },
  {
   "cell_type": "code",
   "execution_count": null,
   "id": "d6b4180c",
   "metadata": {},
   "outputs": [],
   "source": [
    "#!pip install matplotlib\n",
    "\n",
    "import matplotlib.pyplot as plt\n",
    "\n",
    "# Function to read numbers from the file into a list\n",
    "def read_numbers_from_file(file_name):\n",
    "    with open(file_name, 'r') as file:\n",
    "        data = [int(line.strip()) for line in file]  # Convert each line to an integer\n",
    "    return data\n",
    "\n",
    "# Read data from the file\n",
    "data_list = read_numbers_from_file(file_name)\n",
    "\n",
    "# Create a line plot of the data\n",
    "plt.plot(data_list, marker='o', linestyle='-', markersize=2, label=\"Random Values\")\n",
    "plt.title(\"Line Plot of Random Numbers\")\n",
    "plt.xlabel(\"Index\")\n",
    "plt.ylabel(\"Random Value\")\n",
    "plt.legend()\n",
    "plt.grid(True)\n",
    "plt.show()\n"
   ]
  },
  {
   "cell_type": "code",
   "execution_count": null,
   "id": "adb6aa11",
   "metadata": {},
   "outputs": [],
   "source": []
  },
  {
   "cell_type": "code",
   "execution_count": null,
   "id": "6745da79",
   "metadata": {},
   "outputs": [],
   "source": []
  }
 ],
 "metadata": {
  "kernelspec": {
   "display_name": "Python 3 (ipykernel)",
   "language": "python",
   "name": "python3"
  },
  "language_info": {
   "codemirror_mode": {
    "name": "ipython",
    "version": 3
   },
   "file_extension": ".py",
   "mimetype": "text/x-python",
   "name": "python",
   "nbconvert_exporter": "python",
   "pygments_lexer": "ipython3",
   "version": "3.12.2"
  }
 },
 "nbformat": 4,
 "nbformat_minor": 5
}
