{
 "cells": [
  {
   "cell_type": "code",
   "execution_count": 4,
   "id": "d0586696",
   "metadata": {},
   "outputs": [],
   "source": [
    "import matplotlib.pyplot as plt\n",
    "import pandas as pd"
   ]
  },
  {
   "cell_type": "code",
   "execution_count": 5,
   "id": "85659a67",
   "metadata": {},
   "outputs": [
    {
     "data": {
      "text/plain": [
       "'2.2.3'"
      ]
     },
     "execution_count": 5,
     "metadata": {},
     "output_type": "execute_result"
    }
   ],
   "source": [
    "pd.__version__"
   ]
  },
  {
   "cell_type": "markdown",
   "id": "67835cf6",
   "metadata": {},
   "source": [
    "### 1. Load the dataset"
   ]
  },
  {
   "cell_type": "code",
   "execution_count": 7,
   "id": "70856078",
   "metadata": {},
   "outputs": [],
   "source": [
    "wage_data = pd.read_csv('data/wage.csv')"
   ]
  },
  {
   "cell_type": "markdown",
   "id": "60a5f278-07e2-46f8-b9aa-582a2d9b43c3",
   "metadata": {},
   "source": [
    "### 2. Display the first 10 rows"
   ]
  },
  {
   "cell_type": "code",
   "execution_count": 26,
   "id": "bd9fa612",
   "metadata": {},
   "outputs": [
    {
     "name": "stdout",
     "output_type": "stream",
     "text": [
      "First 10 rows:\n",
      "   year  age            maritl      race        education              region  \\\n",
      "0  2006   18  1. Never Married  1. White     1. < HS Grad  2. Middle Atlantic   \n",
      "1  2004   24  1. Never Married  1. White  4. College Grad  2. Middle Atlantic   \n",
      "2  2003   45        2. Married  1. White  3. Some College  2. Middle Atlantic   \n",
      "3  2003   43        2. Married  3. Asian  4. College Grad  2. Middle Atlantic   \n",
      "4  2005   50       4. Divorced  1. White       2. HS Grad  2. Middle Atlantic   \n",
      "5  2008   54        2. Married  1. White  4. College Grad  2. Middle Atlantic   \n",
      "6  2009   44        2. Married  4. Other  3. Some College  2. Middle Atlantic   \n",
      "7  2008   30  1. Never Married  3. Asian  3. Some College  2. Middle Atlantic   \n",
      "8  2006   41  1. Never Married  2. Black  3. Some College  2. Middle Atlantic   \n",
      "9  2004   52        2. Married  1. White       2. HS Grad  2. Middle Atlantic   \n",
      "\n",
      "         jobclass          health health_ins   logwage        wage  \n",
      "0   1. Industrial       1. <=Good      2. No  4.318063   75.043154  \n",
      "1  2. Information  2. >=Very Good      2. No  4.255273   70.476020  \n",
      "2   1. Industrial       1. <=Good     1. Yes  4.875061  130.982177  \n",
      "3  2. Information  2. >=Very Good     1. Yes  5.041393  154.685293  \n",
      "4  2. Information       1. <=Good     1. Yes  4.318063   75.043154  \n",
      "5  2. Information  2. >=Very Good     1. Yes  4.845098  127.115744  \n",
      "6   1. Industrial  2. >=Very Good     1. Yes  5.133021  169.528538  \n",
      "7  2. Information       1. <=Good     1. Yes  4.716003  111.720849  \n",
      "8  2. Information  2. >=Very Good     1. Yes  4.778151  118.884359  \n",
      "9  2. Information  2. >=Very Good     1. Yes  4.857332  128.680488  \n"
     ]
    }
   ],
   "source": [
    "print(\"First 10 rows:\")\n",
    "print(wage_data.head(10))"
   ]
  },
  {
   "cell_type": "markdown",
   "id": "d98eb274",
   "metadata": {},
   "source": [
    "### 3. Display last 10 rows"
   ]
  },
  {
   "cell_type": "code",
   "execution_count": 27,
   "id": "b3e8dad1",
   "metadata": {},
   "outputs": [
    {
     "name": "stdout",
     "output_type": "stream",
     "text": [
      "\n",
      "Last 10 rows:\n",
      "      year  age            maritl      race        education  \\\n",
      "2990  2009   50        2. Married  2. Black       2. HS Grad   \n",
      "2991  2003   26  1. Never Married  2. Black  3. Some College   \n",
      "2992  2007   35        2. Married  1. White     1. < HS Grad   \n",
      "2993  2006   31        2. Married  1. White       2. HS Grad   \n",
      "2994  2009   31        2. Married  1. White  4. College Grad   \n",
      "2995  2008   44        2. Married  1. White  3. Some College   \n",
      "2996  2007   30        2. Married  1. White       2. HS Grad   \n",
      "2997  2005   27        2. Married  2. Black     1. < HS Grad   \n",
      "2998  2005   27  1. Never Married  1. White  3. Some College   \n",
      "2999  2009   55      5. Separated  1. White       2. HS Grad   \n",
      "\n",
      "                  region        jobclass          health health_ins   logwage  \\\n",
      "2990  2. Middle Atlantic   1. Industrial  2. >=Very Good      2. No  4.886491   \n",
      "2991  2. Middle Atlantic   1. Industrial  2. >=Very Good      2. No  4.778151   \n",
      "2992  2. Middle Atlantic   1. Industrial       1. <=Good      2. No  4.698970   \n",
      "2993  2. Middle Atlantic  2. Information  2. >=Very Good     1. Yes  4.633468   \n",
      "2994  2. Middle Atlantic  2. Information  2. >=Very Good     1. Yes  4.893207   \n",
      "2995  2. Middle Atlantic   1. Industrial  2. >=Very Good     1. Yes  5.041393   \n",
      "2996  2. Middle Atlantic   1. Industrial  2. >=Very Good      2. No  4.602060   \n",
      "2997  2. Middle Atlantic   1. Industrial       1. <=Good      2. No  4.193125   \n",
      "2998  2. Middle Atlantic   1. Industrial  2. >=Very Good     1. Yes  4.477121   \n",
      "2999  2. Middle Atlantic   1. Industrial       1. <=Good     1. Yes  4.505150   \n",
      "\n",
      "            wage  \n",
      "2990  132.487821  \n",
      "2991  118.884359  \n",
      "2992  109.833986  \n",
      "2993  102.870247  \n",
      "2994  133.380608  \n",
      "2995  154.685293  \n",
      "2996   99.689464  \n",
      "2997   66.229408  \n",
      "2998   87.981033  \n",
      "2999   90.481913  \n"
     ]
    }
   ],
   "source": [
    "print(\"\\nLast 10 rows:\")\n",
    "print(wage_data.tail(10))"
   ]
  },
  {
   "cell_type": "markdown",
   "id": "6140058a-d82a-44c7-be39-2a5539e4eafd",
   "metadata": {},
   "source": [
    "### 4. How many rows are in the DataFrame"
   ]
  },
  {
   "cell_type": "code",
   "execution_count": 28,
   "id": "15eb6a5b",
   "metadata": {},
   "outputs": [
    {
     "name": "stdout",
     "output_type": "stream",
     "text": [
      "\n",
      "Number of rows: 3000\n"
     ]
    }
   ],
   "source": [
    "num_rows = wage_data.shape[0]\n",
    "print(f\"\\nNumber of rows: {num_rows}\")"
   ]
  },
  {
   "cell_type": "markdown",
   "id": "ed567d61-61aa-4385-b48c-8e0ca937e644",
   "metadata": {},
   "source": [
    "### 5. Display metadata for the DataFrame"
   ]
  },
  {
   "cell_type": "code",
   "execution_count": 29,
   "id": "90cb950e",
   "metadata": {},
   "outputs": [
    {
     "name": "stdout",
     "output_type": "stream",
     "text": [
      "\n",
      "DataFrame Info:\n",
      "<class 'pandas.core.frame.DataFrame'>\n",
      "RangeIndex: 3000 entries, 0 to 2999\n",
      "Data columns (total 11 columns):\n",
      " #   Column      Non-Null Count  Dtype  \n",
      "---  ------      --------------  -----  \n",
      " 0   year        3000 non-null   int64  \n",
      " 1   age         3000 non-null   int64  \n",
      " 2   maritl      3000 non-null   object \n",
      " 3   race        3000 non-null   object \n",
      " 4   education   3000 non-null   object \n",
      " 5   region      3000 non-null   object \n",
      " 6   jobclass    3000 non-null   object \n",
      " 7   health      3000 non-null   object \n",
      " 8   health_ins  3000 non-null   object \n",
      " 9   logwage     3000 non-null   float64\n",
      " 10  wage        3000 non-null   float64\n",
      "dtypes: float64(2), int64(2), object(7)\n",
      "memory usage: 257.9+ KB\n"
     ]
    }
   ],
   "source": [
    "print(\"\\nDataFrame Info:\")\n",
    "wage_data.info()"
   ]
  },
  {
   "cell_type": "markdown",
   "id": "656f74fa-9ff7-4777-a85c-76017d133536",
   "metadata": {},
   "source": [
    "### 6. Display the data types for two columns (let's use 'age' and 'wage')"
   ]
  },
  {
   "cell_type": "code",
   "execution_count": 30,
   "id": "eee022e1",
   "metadata": {},
   "outputs": [
    {
     "name": "stdout",
     "output_type": "stream",
     "text": [
      "\n",
      "Data types for 'age' and 'wage':\n",
      "age       int64\n",
      "wage    float64\n",
      "dtype: object\n"
     ]
    }
   ],
   "source": [
    "print(\"\\nData types for 'age' and 'wage':\")\n",
    "print(wage_data[['age', 'wage']].dtypes)"
   ]
  },
  {
   "cell_type": "markdown",
   "id": "c1505dc0-8135-4fff-9a24-3c5535173caf",
   "metadata": {},
   "source": [
    "### 7. Display the column names from the dataset"
   ]
  },
  {
   "cell_type": "code",
   "execution_count": 31,
   "id": "f30621a3",
   "metadata": {},
   "outputs": [
    {
     "name": "stdout",
     "output_type": "stream",
     "text": [
      "\n",
      "Column Names:\n",
      "['year', 'age', 'maritl', 'race', 'education', 'region', 'jobclass', 'health', 'health_ins', 'logwage', 'wage']\n"
     ]
    }
   ],
   "source": [
    "print(\"\\nColumn Names:\")\n",
    "print(wage_data.columns.tolist())"
   ]
  },
  {
   "cell_type": "code",
   "execution_count": 32,
   "id": "4e1e76ae",
   "metadata": {},
   "outputs": [
    {
     "name": "stdout",
     "output_type": "stream",
     "text": [
      "\n",
      "DataFrame Index:\n",
      "RangeIndex(start=0, stop=3000, step=1)\n",
      "\n",
      "Total individual elements: 33000\n",
      "\n",
      "Number of rows: 3000, Number of columns: 11\n"
     ]
    }
   ],
   "source": [
    "# 8. Display the DataFrame’s index\n",
    "print(\"\\nDataFrame Index:\")\n",
    "print(wage_data.index)\n",
    "\n",
    "# 9. How many individual elements are in the DataFrame?\n",
    "total_elements = wage_data.size\n",
    "print(f\"\\nTotal individual elements: {total_elements}\")\n",
    "\n",
    "# 10. How many columns and rows are there?\n",
    "num_rows, num_columns = wage_data.shape\n",
    "print(f\"\\nNumber of rows: {num_rows}, Number of columns: {num_columns}\")"
   ]
  },
  {
   "cell_type": "markdown",
   "id": "31407ec1-3ca2-4933-9dd2-886df0f7f3a9",
   "metadata": {},
   "source": [
    "### 11. Display descriptive statistics for the wage and age columns"
   ]
  },
  {
   "cell_type": "code",
   "execution_count": 33,
   "id": "acdf2e88",
   "metadata": {},
   "outputs": [
    {
     "name": "stdout",
     "output_type": "stream",
     "text": [
      "\n",
      "Descriptive statistics for 'wage' and 'age':\n",
      "              wage          age\n",
      "count  3000.000000  3000.000000\n",
      "mean    111.703608    42.414667\n",
      "std      41.728595    11.542406\n",
      "min      20.085537    18.000000\n",
      "25%      85.383940    33.750000\n",
      "50%     104.921507    42.000000\n",
      "75%     128.680488    51.000000\n",
      "max     318.342430    80.000000\n"
     ]
    }
   ],
   "source": [
    "print(\"\\nDescriptive statistics for 'wage' and 'age':\")\n",
    "print(wage_data[['wage', 'age']].describe())"
   ]
  },
  {
   "cell_type": "markdown",
   "id": "c9b1f1f3-b716-4906-bb13-8d0dc185458b",
   "metadata": {},
   "source": [
    "### 12. Display descriptive statistics for 'wage' and 'age' grouped by 'race'"
   ]
  },
  {
   "cell_type": "code",
   "execution_count": 34,
   "id": "460ae134",
   "metadata": {},
   "outputs": [
    {
     "name": "stdout",
     "output_type": "stream",
     "text": [
      "\n",
      "Descriptive statistics for 'wage' and 'age' by race:\n",
      "            wage                                                           \\\n",
      "           count        mean        std        min        25%         50%   \n",
      "race                                                                        \n",
      "1. White  2480.0  112.563666  41.733830  20.085537  86.695155  106.348256   \n",
      "2. Black   293.0  101.601177  37.162486  23.274704  81.283253   94.072715   \n",
      "3. Asian   190.0  120.288288  46.422514  34.607418  87.981033  115.375039   \n",
      "4. Other    37.0   89.973326  29.153530  38.223583  71.319639   81.283253   \n",
      "\n",
      "                                     age                                     \\\n",
      "                 75%         max   count       mean        std   min    25%   \n",
      "race                                                                          \n",
      "1. White  130.042934  314.329336  2480.0  42.394758  11.365655  18.0  34.00   \n",
      "2. Black  117.146817  318.342430   293.0  43.563140  13.012913  18.0  33.00   \n",
      "3. Asian  144.828129  299.262977   190.0  41.821053  11.218823  22.0  32.25   \n",
      "4. Other  104.921507  169.528538    37.0  37.702703  11.553895  21.0  28.00   \n",
      "\n",
      "                            \n",
      "           50%   75%   max  \n",
      "race                        \n",
      "1. White  42.0  51.0  80.0  \n",
      "2. Black  44.0  52.0  75.0  \n",
      "3. Asian  40.0  50.0  76.0  \n",
      "4. Other  39.0  47.0  65.0  \n"
     ]
    }
   ],
   "source": [
    "print(\"\\nDescriptive statistics for 'wage' and 'age' by race:\")\n",
    "print(wage_data.groupby('race')[['wage', 'age']].describe())"
   ]
  },
  {
   "cell_type": "markdown",
   "id": "8547ae5b-507b-4bcf-8e95-08a854b91806",
   "metadata": {},
   "source": [
    "### 13. What do the mean and median values of wage tell us about the data?"
   ]
  },
  {
   "cell_type": "code",
   "execution_count": 35,
   "id": "2c1c131a",
   "metadata": {},
   "outputs": [
    {
     "name": "stdout",
     "output_type": "stream",
     "text": [
      "\n",
      "Mean wage: 111.70360820174345, Median wage: 104.921506533664\n",
      "The mean is greater than the median, indicating a right-skewed distribution of wages.\n"
     ]
    }
   ],
   "source": [
    "mean_wage = wage_data['wage'].mean()\n",
    "median_wage = wage_data['wage'].median()\n",
    "print(f\"\\nMean wage: {mean_wage}, Median wage: {median_wage}\")\n",
    "if mean_wage > median_wage:\n",
    "    print(\"The mean is greater than the median, indicating a right-skewed distribution of wages.\")\n",
    "else:\n",
    "    print(\"The mean is close to or less than the median, indicating a fairly symmetric or left-skewed distribution.\")\n"
   ]
  },
  {
   "cell_type": "markdown",
   "id": "97894b8d-e2a5-4ce9-988a-f1e6600437da",
   "metadata": {},
   "source": [
    "### 14. Display the 'age' and 'wage' columns only"
   ]
  },
  {
   "cell_type": "code",
   "execution_count": 36,
   "id": "6af39a7d",
   "metadata": {},
   "outputs": [
    {
     "name": "stdout",
     "output_type": "stream",
     "text": [
      "\n",
      "Age and Wage Columns:\n",
      "      age        wage\n",
      "0      18   75.043154\n",
      "1      24   70.476020\n",
      "2      45  130.982177\n",
      "3      43  154.685293\n",
      "4      50   75.043154\n",
      "...   ...         ...\n",
      "2995   44  154.685293\n",
      "2996   30   99.689464\n",
      "2997   27   66.229408\n",
      "2998   27   87.981033\n",
      "2999   55   90.481913\n",
      "\n",
      "[3000 rows x 2 columns]\n"
     ]
    }
   ],
   "source": [
    "print(\"\\nAge and Wage Columns:\")\n",
    "print(wage_data[['age', 'wage']])"
   ]
  },
  {
   "cell_type": "markdown",
   "id": "c9165d21-d183-4037-994d-ffaac3e7522d",
   "metadata": {},
   "source": [
    "### 15. Are these two columns correlated?"
   ]
  },
  {
   "cell_type": "code",
   "execution_count": 37,
   "id": "516aa5f1",
   "metadata": {},
   "outputs": [
    {
     "name": "stdout",
     "output_type": "stream",
     "text": [
      "\n",
      "Correlation between 'age' and 'wage': 0.19563720156358866\n",
      "There is a positive correlation between age and wage.\n"
     ]
    }
   ],
   "source": [
    "correlation = wage_data['age'].corr(wage_data['wage'])\n",
    "print(f\"\\nCorrelation between 'age' and 'wage': {correlation}\")\n",
    "if correlation > 0:\n",
    "    print(\"There is a positive correlation between age and wage.\")\n",
    "elif correlation < 0:\n",
    "    print(\"There is a negative correlation between age and wage.\")\n",
    "else:\n",
    "    print(\"There is no correlation between age and wage.\")"
   ]
  },
  {
   "cell_type": "markdown",
   "id": "edabf600-25f5-48c1-8262-c43daeca814e",
   "metadata": {},
   "source": [
    "### 16. Display the top 10 salaries"
   ]
  },
  {
   "cell_type": "code",
   "execution_count": 38,
   "id": "569b178f",
   "metadata": {},
   "outputs": [
    {
     "name": "stdout",
     "output_type": "stream",
     "text": [
      "\n",
      "Top 10 Salaries:\n",
      "            wage\n",
      "206   318.342430\n",
      "1229  318.342430\n",
      "503   314.329336\n",
      "1293  311.934569\n",
      "1112  309.571771\n",
      "2712  309.571771\n",
      "2893  299.262977\n",
      "2925  295.991250\n",
      "489   284.524741\n",
      "2286  281.745971\n"
     ]
    }
   ],
   "source": [
    "print(\"\\nTop 10 Salaries:\")\n",
    "print(wage_data[['wage']].sort_values(by='wage', ascending=False).head(10))"
   ]
  },
  {
   "cell_type": "code",
   "execution_count": 39,
   "id": "e466a661",
   "metadata": {},
   "outputs": [
    {
     "name": "stdout",
     "output_type": "stream",
     "text": [
      "\n",
      "Counts of each race:\n",
      "race\n",
      "1. White    2480\n",
      "2. Black     293\n",
      "3. Asian     190\n",
      "4. Other      37\n",
      "Name: count, dtype: int64\n",
      "\n",
      "Proportion of each race:\n",
      "race\n",
      "1. White    0.826667\n",
      "2. Black    0.097667\n",
      "3. Asian    0.063333\n",
      "4. Other    0.012333\n",
      "Name: proportion, dtype: float64\n"
     ]
    }
   ],
   "source": [
    "# 17. Display the counts of each race in the dataset\n",
    "print(\"\\nCounts of each race:\")\n",
    "print(wage_data['race'].value_counts())\n",
    "\n",
    "# 18. Display the proportion of each race in the dataset\n",
    "print(\"\\nProportion of each race:\")\n",
    "proportions = wage_data['race'].value_counts(normalize=True)\n",
    "print(proportions)"
   ]
  },
  {
   "cell_type": "markdown",
   "id": "6a805587-7c9f-4236-8237-011987a43901",
   "metadata": {},
   "source": [
    "### 19. Create a bar plot of regional proportionality"
   ]
  },
  {
   "cell_type": "code",
   "execution_count": 41,
   "id": "24f44a24",
   "metadata": {},
   "outputs": [
    {
     "name": "stdout",
     "output_type": "stream",
     "text": [
      "\n",
      "Proportion of each region:\n",
      "region\n",
      "2. Middle Atlantic    1.0\n",
      "Name: proportion, dtype: float64\n"
     ]
    },
    {
     "data": {
      "image/png": "[encoded data removed]",
      "text/plain": [
       "<Figure size 640x480 with 1 Axes>"
      ]
     },
     "metadata": {},
     "output_type": "display_data"
    }
   ],
   "source": [
    "region_proportions = wage_data['region'].value_counts(normalize=True)\n",
    "print(\"\\nProportion of each region:\")\n",
    "print(region_proportions)\n",
    "\n",
    "region_proportions.plot(kind='bar', color='skyblue', title='Regional Proportionality')\n",
    "plt.xlabel('Region')\n",
    "plt.ylabel('Proportion')\n",
    "plt.show()"
   ]
  },
  {
   "cell_type": "code",
   "execution_count": null,
   "id": "0b4e884f-75c4-4660-a4c9-ab4cd1157358",
   "metadata": {},
   "outputs": [],
   "source": []
  }
 ],
 "metadata": {
  "kernelspec": {
   "display_name": "Python 3 (ipykernel)",
   "language": "python",
   "name": "python3"
  },
  "language_info": {
   "codemirror_mode": {
    "name": "ipython",
    "version": 3
   },
   "file_extension": ".py",
   "mimetype": "text/x-python",
   "name": "python",
   "nbconvert_exporter": "python",
   "pygments_lexer": "ipython3",
   "version": "3.12.2"
  }
 },
 "nbformat": 4,
 "nbformat_minor": 5
}
